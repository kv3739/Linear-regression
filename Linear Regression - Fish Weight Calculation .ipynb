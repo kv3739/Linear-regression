{
 "cells": [
  {
   "cell_type": "code",
   "execution_count": 5,
   "id": "f6bb5413",
   "metadata": {},
   "outputs": [],
   "source": [
    "import numpy as np\n",
    "import pandas as pd\n",
    "\n",
    "import os\n",
    "for dirname, _, filenames in os.walk(\"D:\\Fish.csv\"):\n",
    "    for filename in filenames:\n",
    "        print(os.path.join(dirname, filename))\n"
   ]
  },
  {
   "cell_type": "code",
   "execution_count": 6,
   "id": "82c9edf7",
   "metadata": {},
   "outputs": [],
   "source": [
    "import warnings\n",
    "warnings.filterwarnings('ignore')"
   ]
  },
  {
   "cell_type": "code",
   "execution_count": 7,
   "id": "869ecebe",
   "metadata": {},
   "outputs": [],
   "source": [
    "import pandas as pd\n",
    "import numpy as np\n",
    "import matplotlib.pyplot as plt\n",
    "import seaborn as sns\n",
    "%matplotlib inline\n"
   ]
  },
  {
   "cell_type": "code",
   "execution_count": 8,
   "id": "b450041c",
   "metadata": {},
   "outputs": [],
   "source": [
    "fish= pd.read_csv(\"D:\\Fish.csv\")"
   ]
  },
  {
   "cell_type": "code",
   "execution_count": 9,
   "id": "f6732a6f",
   "metadata": {},
   "outputs": [
    {
     "data": {
      "text/html": [
       "<div>\n",
       "<style scoped>\n",
       "    .dataframe tbody tr th:only-of-type {\n",
       "        vertical-align: middle;\n",
       "    }\n",
       "\n",
       "    .dataframe tbody tr th {\n",
       "        vertical-align: top;\n",
       "    }\n",
       "\n",
       "    .dataframe thead th {\n",
       "        text-align: right;\n",
       "    }\n",
       "</style>\n",
       "<table border=\"1\" class=\"dataframe\">\n",
       "  <thead>\n",
       "    <tr style=\"text-align: right;\">\n",
       "      <th></th>\n",
       "      <th>Species</th>\n",
       "      <th>Weight</th>\n",
       "      <th>Length1</th>\n",
       "      <th>Length2</th>\n",
       "      <th>Length3</th>\n",
       "      <th>Height</th>\n",
       "      <th>Width</th>\n",
       "    </tr>\n",
       "  </thead>\n",
       "  <tbody>\n",
       "    <tr>\n",
       "      <th>0</th>\n",
       "      <td>Bream</td>\n",
       "      <td>242.0</td>\n",
       "      <td>23.2</td>\n",
       "      <td>25.4</td>\n",
       "      <td>30.0</td>\n",
       "      <td>11.5200</td>\n",
       "      <td>4.0200</td>\n",
       "    </tr>\n",
       "    <tr>\n",
       "      <th>1</th>\n",
       "      <td>Bream</td>\n",
       "      <td>290.0</td>\n",
       "      <td>24.0</td>\n",
       "      <td>26.3</td>\n",
       "      <td>31.2</td>\n",
       "      <td>12.4800</td>\n",
       "      <td>4.3056</td>\n",
       "    </tr>\n",
       "    <tr>\n",
       "      <th>2</th>\n",
       "      <td>Bream</td>\n",
       "      <td>340.0</td>\n",
       "      <td>23.9</td>\n",
       "      <td>26.5</td>\n",
       "      <td>31.1</td>\n",
       "      <td>12.3778</td>\n",
       "      <td>4.6961</td>\n",
       "    </tr>\n",
       "    <tr>\n",
       "      <th>3</th>\n",
       "      <td>Bream</td>\n",
       "      <td>363.0</td>\n",
       "      <td>26.3</td>\n",
       "      <td>29.0</td>\n",
       "      <td>33.5</td>\n",
       "      <td>12.7300</td>\n",
       "      <td>4.4555</td>\n",
       "    </tr>\n",
       "    <tr>\n",
       "      <th>4</th>\n",
       "      <td>Bream</td>\n",
       "      <td>430.0</td>\n",
       "      <td>26.5</td>\n",
       "      <td>29.0</td>\n",
       "      <td>34.0</td>\n",
       "      <td>12.4440</td>\n",
       "      <td>5.1340</td>\n",
       "    </tr>\n",
       "  </tbody>\n",
       "</table>\n",
       "</div>"
      ],
      "text/plain": [
       "  Species  Weight  Length1  Length2  Length3   Height   Width\n",
       "0   Bream   242.0     23.2     25.4     30.0  11.5200  4.0200\n",
       "1   Bream   290.0     24.0     26.3     31.2  12.4800  4.3056\n",
       "2   Bream   340.0     23.9     26.5     31.1  12.3778  4.6961\n",
       "3   Bream   363.0     26.3     29.0     33.5  12.7300  4.4555\n",
       "4   Bream   430.0     26.5     29.0     34.0  12.4440  5.1340"
      ]
     },
     "execution_count": 9,
     "metadata": {},
     "output_type": "execute_result"
    }
   ],
   "source": [
    "fish.head()"
   ]
  },
  {
   "cell_type": "code",
   "execution_count": 10,
   "id": "4cd93dfe",
   "metadata": {},
   "outputs": [
    {
     "name": "stdout",
     "output_type": "stream",
     "text": [
      "<class 'pandas.core.frame.DataFrame'>\n",
      "RangeIndex: 159 entries, 0 to 158\n",
      "Data columns (total 7 columns):\n",
      " #   Column   Non-Null Count  Dtype  \n",
      "---  ------   --------------  -----  \n",
      " 0   Species  159 non-null    object \n",
      " 1   Weight   159 non-null    float64\n",
      " 2   Length1  159 non-null    float64\n",
      " 3   Length2  159 non-null    float64\n",
      " 4   Length3  159 non-null    float64\n",
      " 5   Height   159 non-null    float64\n",
      " 6   Width    159 non-null    float64\n",
      "dtypes: float64(6), object(1)\n",
      "memory usage: 8.8+ KB\n"
     ]
    }
   ],
   "source": [
    "fish.info()"
   ]
  },
  {
   "cell_type": "code",
   "execution_count": 11,
   "id": "fe06849f",
   "metadata": {},
   "outputs": [
    {
     "data": {
      "text/html": [
       "<div>\n",
       "<style scoped>\n",
       "    .dataframe tbody tr th:only-of-type {\n",
       "        vertical-align: middle;\n",
       "    }\n",
       "\n",
       "    .dataframe tbody tr th {\n",
       "        vertical-align: top;\n",
       "    }\n",
       "\n",
       "    .dataframe thead th {\n",
       "        text-align: right;\n",
       "    }\n",
       "</style>\n",
       "<table border=\"1\" class=\"dataframe\">\n",
       "  <thead>\n",
       "    <tr style=\"text-align: right;\">\n",
       "      <th></th>\n",
       "      <th>Weight</th>\n",
       "      <th>Length1</th>\n",
       "      <th>Length2</th>\n",
       "      <th>Length3</th>\n",
       "      <th>Height</th>\n",
       "      <th>Width</th>\n",
       "    </tr>\n",
       "  </thead>\n",
       "  <tbody>\n",
       "    <tr>\n",
       "      <th>count</th>\n",
       "      <td>159.000000</td>\n",
       "      <td>159.000000</td>\n",
       "      <td>159.000000</td>\n",
       "      <td>159.000000</td>\n",
       "      <td>159.000000</td>\n",
       "      <td>159.000000</td>\n",
       "    </tr>\n",
       "    <tr>\n",
       "      <th>mean</th>\n",
       "      <td>398.326415</td>\n",
       "      <td>26.247170</td>\n",
       "      <td>28.415723</td>\n",
       "      <td>31.227044</td>\n",
       "      <td>8.970994</td>\n",
       "      <td>4.417486</td>\n",
       "    </tr>\n",
       "    <tr>\n",
       "      <th>std</th>\n",
       "      <td>357.978317</td>\n",
       "      <td>9.996441</td>\n",
       "      <td>10.716328</td>\n",
       "      <td>11.610246</td>\n",
       "      <td>4.286208</td>\n",
       "      <td>1.685804</td>\n",
       "    </tr>\n",
       "    <tr>\n",
       "      <th>min</th>\n",
       "      <td>0.000000</td>\n",
       "      <td>7.500000</td>\n",
       "      <td>8.400000</td>\n",
       "      <td>8.800000</td>\n",
       "      <td>1.728400</td>\n",
       "      <td>1.047600</td>\n",
       "    </tr>\n",
       "    <tr>\n",
       "      <th>25%</th>\n",
       "      <td>120.000000</td>\n",
       "      <td>19.050000</td>\n",
       "      <td>21.000000</td>\n",
       "      <td>23.150000</td>\n",
       "      <td>5.944800</td>\n",
       "      <td>3.385650</td>\n",
       "    </tr>\n",
       "    <tr>\n",
       "      <th>50%</th>\n",
       "      <td>273.000000</td>\n",
       "      <td>25.200000</td>\n",
       "      <td>27.300000</td>\n",
       "      <td>29.400000</td>\n",
       "      <td>7.786000</td>\n",
       "      <td>4.248500</td>\n",
       "    </tr>\n",
       "    <tr>\n",
       "      <th>75%</th>\n",
       "      <td>650.000000</td>\n",
       "      <td>32.700000</td>\n",
       "      <td>35.500000</td>\n",
       "      <td>39.650000</td>\n",
       "      <td>12.365900</td>\n",
       "      <td>5.584500</td>\n",
       "    </tr>\n",
       "    <tr>\n",
       "      <th>max</th>\n",
       "      <td>1650.000000</td>\n",
       "      <td>59.000000</td>\n",
       "      <td>63.400000</td>\n",
       "      <td>68.000000</td>\n",
       "      <td>18.957000</td>\n",
       "      <td>8.142000</td>\n",
       "    </tr>\n",
       "  </tbody>\n",
       "</table>\n",
       "</div>"
      ],
      "text/plain": [
       "            Weight     Length1     Length2     Length3      Height       Width\n",
       "count   159.000000  159.000000  159.000000  159.000000  159.000000  159.000000\n",
       "mean    398.326415   26.247170   28.415723   31.227044    8.970994    4.417486\n",
       "std     357.978317    9.996441   10.716328   11.610246    4.286208    1.685804\n",
       "min       0.000000    7.500000    8.400000    8.800000    1.728400    1.047600\n",
       "25%     120.000000   19.050000   21.000000   23.150000    5.944800    3.385650\n",
       "50%     273.000000   25.200000   27.300000   29.400000    7.786000    4.248500\n",
       "75%     650.000000   32.700000   35.500000   39.650000   12.365900    5.584500\n",
       "max    1650.000000   59.000000   63.400000   68.000000   18.957000    8.142000"
      ]
     },
     "execution_count": 11,
     "metadata": {},
     "output_type": "execute_result"
    }
   ],
   "source": [
    "fish.describe()"
   ]
  },
  {
   "cell_type": "code",
   "execution_count": 12,
   "id": "4f665c60",
   "metadata": {},
   "outputs": [
    {
     "data": {
      "text/plain": [
       "(159, 7)"
      ]
     },
     "execution_count": 12,
     "metadata": {},
     "output_type": "execute_result"
    }
   ],
   "source": [
    "fish.shape"
   ]
  },
  {
   "cell_type": "markdown",
   "id": "a7e56540",
   "metadata": {},
   "source": [
    "### Data Quality Check "
   ]
  },
  {
   "cell_type": "code",
   "execution_count": 13,
   "id": "43943542",
   "metadata": {},
   "outputs": [
    {
     "data": {
      "text/plain": [
       "Species    0.0\n",
       "Weight     0.0\n",
       "Length1    0.0\n",
       "Length2    0.0\n",
       "Length3    0.0\n",
       "Height     0.0\n",
       "Width      0.0\n",
       "dtype: float64"
      ]
     },
     "execution_count": 13,
     "metadata": {},
     "output_type": "execute_result"
    }
   ],
   "source": [
    "# percentage of missing values in each column\n",
    "round((100*(fish.isnull().sum())/len(fish)),2)"
   ]
  },
  {
   "cell_type": "code",
   "execution_count": 14,
   "id": "2385b488",
   "metadata": {},
   "outputs": [
    {
     "data": {
      "text/plain": [
       "0      0.0\n",
       "109    0.0\n",
       "102    0.0\n",
       "103    0.0\n",
       "104    0.0\n",
       "      ... \n",
       "54     0.0\n",
       "55     0.0\n",
       "56     0.0\n",
       "57     0.0\n",
       "158    0.0\n",
       "Length: 159, dtype: float64"
      ]
     },
     "execution_count": 14,
     "metadata": {},
     "output_type": "execute_result"
    }
   ],
   "source": [
    "# percentage of missing values in each row\n",
    "round((100*(fish.isnull().sum(axis=1))/len(fish)),2).sort_values(ascending= False)"
   ]
  },
  {
   "cell_type": "markdown",
   "id": "c8a49a7a",
   "metadata": {},
   "source": [
    "### Duplicate Check¶\n"
   ]
  },
  {
   "cell_type": "code",
   "execution_count": 15,
   "id": "c902b30c",
   "metadata": {},
   "outputs": [],
   "source": [
    "fish_dub=fish.copy()"
   ]
  },
  {
   "cell_type": "code",
   "execution_count": 16,
   "id": "91dc53f5",
   "metadata": {},
   "outputs": [
    {
     "data": {
      "text/plain": [
       "(159, 7)"
      ]
     },
     "execution_count": 16,
     "metadata": {},
     "output_type": "execute_result"
    }
   ],
   "source": [
    "fish_dub.shape"
   ]
  },
  {
   "cell_type": "code",
   "execution_count": 17,
   "id": "0e8ae7aa",
   "metadata": {},
   "outputs": [
    {
     "data": {
      "text/plain": [
       "(159, 7)"
      ]
     },
     "execution_count": 17,
     "metadata": {},
     "output_type": "execute_result"
    }
   ],
   "source": [
    "fish.shape"
   ]
  },
  {
   "cell_type": "markdown",
   "id": "d0c52f42",
   "metadata": {},
   "source": [
    "### Data Cleaning¶\n"
   ]
  },
  {
   "cell_type": "code",
   "execution_count": 18,
   "id": "be1d4f1b",
   "metadata": {},
   "outputs": [
    {
     "name": "stdout",
     "output_type": "stream",
     "text": [
      "Perch        56\n",
      "Bream        35\n",
      "Roach        20\n",
      "Pike         17\n",
      "Smelt        14\n",
      "Parkki       11\n",
      "Whitefish     6\n",
      "Name: Species, dtype: int64 \n",
      "\n",
      "\n",
      "\n",
      "300.0     6\n",
      "500.0     5\n",
      "120.0     5\n",
      "700.0     5\n",
      "1000.0    5\n",
      "         ..\n",
      "19.7      1\n",
      "197.0     1\n",
      "306.0     1\n",
      "680.0     1\n",
      "800.0     1\n",
      "Name: Weight, Length: 101, dtype: int64 \n",
      "\n",
      "\n",
      "\n",
      "19.0    6\n",
      "20.0    5\n",
      "20.5    4\n",
      "22.0    4\n",
      "25.4    3\n",
      "       ..\n",
      "36.2    1\n",
      "26.3    1\n",
      "37.1    1\n",
      "32.8    1\n",
      "18.6    1\n",
      "Name: Length1, Length: 116, dtype: int64 \n",
      "\n",
      "\n",
      "\n",
      "22.0    7\n",
      "35.0    6\n",
      "40.0    5\n",
      "22.5    5\n",
      "21.0    4\n",
      "       ..\n",
      "42.0    1\n",
      "39.5    1\n",
      "21.3    1\n",
      "26.3    1\n",
      "20.8    1\n",
      "Name: Length2, Length: 93, dtype: int64 \n",
      "\n",
      "\n",
      "\n",
      "23.5    5\n",
      "22.5    3\n",
      "36.2    3\n",
      "25.0    3\n",
      "28.9    3\n",
      "       ..\n",
      "27.2    1\n",
      "24.1    1\n",
      "39.5    1\n",
      "21.3    1\n",
      "36.4    1\n",
      "Name: Length3, Length: 124, dtype: int64 \n",
      "\n",
      "\n",
      "\n",
      "6.1100     2\n",
      "2.2139     2\n",
      "11.1366    2\n",
      "9.6000     2\n",
      "5.6925     2\n",
      "          ..\n",
      "15.9936    1\n",
      "6.2884     1\n",
      "15.6330    1\n",
      "7.4052     1\n",
      "5.5680     1\n",
      "Name: Height, Length: 154, dtype: int64 \n",
      "\n",
      "\n",
      "\n",
      "3.5250    3\n",
      "3.6240    2\n",
      "6.1440    2\n",
      "4.3350    2\n",
      "4.1440    2\n",
      "         ..\n",
      "3.6260    1\n",
      "4.5765    1\n",
      "5.1340    1\n",
      "3.4104    1\n",
      "5.7276    1\n",
      "Name: Width, Length: 152, dtype: int64 \n",
      "\n",
      "\n",
      "\n"
     ]
    }
   ],
   "source": [
    "for col in fish:\n",
    "    print(fish[col].value_counts(ascending=False), '\\n\\n\\n')"
   ]
  },
  {
   "cell_type": "markdown",
   "id": "bb32ac8b",
   "metadata": {},
   "source": [
    "### Creating Dummy Variables"
   ]
  },
  {
   "cell_type": "code",
   "execution_count": 19,
   "id": "4e36e176",
   "metadata": {},
   "outputs": [
    {
     "name": "stdout",
     "output_type": "stream",
     "text": [
      "<class 'pandas.core.frame.DataFrame'>\n",
      "RangeIndex: 159 entries, 0 to 158\n",
      "Data columns (total 7 columns):\n",
      " #   Column   Non-Null Count  Dtype  \n",
      "---  ------   --------------  -----  \n",
      " 0   Species  159 non-null    object \n",
      " 1   Weight   159 non-null    float64\n",
      " 2   Length1  159 non-null    float64\n",
      " 3   Length2  159 non-null    float64\n",
      " 4   Length3  159 non-null    float64\n",
      " 5   Height   159 non-null    float64\n",
      " 6   Width    159 non-null    float64\n",
      "dtypes: float64(6), object(1)\n",
      "memory usage: 8.8+ KB\n"
     ]
    }
   ],
   "source": [
    "fish.info()"
   ]
  },
  {
   "cell_type": "code",
   "execution_count": 20,
   "id": "79248f46",
   "metadata": {},
   "outputs": [],
   "source": [
    "fish['Species']=fish['Species'].astype('category')"
   ]
  },
  {
   "cell_type": "code",
   "execution_count": 21,
   "id": "083e6031",
   "metadata": {},
   "outputs": [
    {
     "name": "stdout",
     "output_type": "stream",
     "text": [
      "<class 'pandas.core.frame.DataFrame'>\n",
      "RangeIndex: 159 entries, 0 to 158\n",
      "Data columns (total 12 columns):\n",
      " #   Column             Non-Null Count  Dtype  \n",
      "---  ------             --------------  -----  \n",
      " 0   Weight             159 non-null    float64\n",
      " 1   Length1            159 non-null    float64\n",
      " 2   Length2            159 non-null    float64\n",
      " 3   Length3            159 non-null    float64\n",
      " 4   Height             159 non-null    float64\n",
      " 5   Width              159 non-null    float64\n",
      " 6   Species_Parkki     159 non-null    uint8  \n",
      " 7   Species_Perch      159 non-null    uint8  \n",
      " 8   Species_Pike       159 non-null    uint8  \n",
      " 9   Species_Roach      159 non-null    uint8  \n",
      " 10  Species_Smelt      159 non-null    uint8  \n",
      " 11  Species_Whitefish  159 non-null    uint8  \n",
      "dtypes: float64(6), uint8(6)\n",
      "memory usage: 8.5 KB\n"
     ]
    }
   ],
   "source": [
    "fish_new = pd.get_dummies(fish, drop_first=True)\n",
    "fish_new.info()"
   ]
  },
  {
   "cell_type": "code",
   "execution_count": 22,
   "id": "e04b8200",
   "metadata": {},
   "outputs": [
    {
     "data": {
      "text/plain": [
       "(159, 12)"
      ]
     },
     "execution_count": 22,
     "metadata": {},
     "output_type": "execute_result"
    }
   ],
   "source": [
    "fish_new.shape"
   ]
  },
  {
   "cell_type": "markdown",
   "id": "4f7b7783",
   "metadata": {},
   "source": [
    "### SPLITTING THE DATA"
   ]
  },
  {
   "cell_type": "code",
   "execution_count": 23,
   "id": "de72bf47",
   "metadata": {},
   "outputs": [
    {
     "data": {
      "text/plain": [
       "(159, 12)"
      ]
     },
     "execution_count": 23,
     "metadata": {},
     "output_type": "execute_result"
    }
   ],
   "source": [
    "fish_new.shape"
   ]
  },
  {
   "cell_type": "code",
   "execution_count": 24,
   "id": "3aba6dce",
   "metadata": {},
   "outputs": [
    {
     "name": "stdout",
     "output_type": "stream",
     "text": [
      "<class 'pandas.core.frame.DataFrame'>\n",
      "RangeIndex: 159 entries, 0 to 158\n",
      "Data columns (total 12 columns):\n",
      " #   Column             Non-Null Count  Dtype  \n",
      "---  ------             --------------  -----  \n",
      " 0   Weight             159 non-null    float64\n",
      " 1   Length1            159 non-null    float64\n",
      " 2   Length2            159 non-null    float64\n",
      " 3   Length3            159 non-null    float64\n",
      " 4   Height             159 non-null    float64\n",
      " 5   Width              159 non-null    float64\n",
      " 6   Species_Parkki     159 non-null    uint8  \n",
      " 7   Species_Perch      159 non-null    uint8  \n",
      " 8   Species_Pike       159 non-null    uint8  \n",
      " 9   Species_Roach      159 non-null    uint8  \n",
      " 10  Species_Smelt      159 non-null    uint8  \n",
      " 11  Species_Whitefish  159 non-null    uint8  \n",
      "dtypes: float64(6), uint8(6)\n",
      "memory usage: 8.5 KB\n"
     ]
    }
   ],
   "source": [
    "fish_new.info()"
   ]
  },
  {
   "cell_type": "code",
   "execution_count": 25,
   "id": "b69805dc",
   "metadata": {},
   "outputs": [],
   "source": [
    "from sklearn.model_selection import train_test_split\n",
    "\n",
    "# We should specify 'random_state' so that the train and test data set always have the same rows, respectively\n",
    "\n",
    "np.random.seed(0)\n",
    "df_train, df_test = train_test_split(fish_new, train_size = 0.70, test_size = 0.30, random_state = 100)"
   ]
  },
  {
   "cell_type": "code",
   "execution_count": 26,
   "id": "c72051b3",
   "metadata": {},
   "outputs": [
    {
     "name": "stdout",
     "output_type": "stream",
     "text": [
      "<class 'pandas.core.frame.DataFrame'>\n",
      "Int64Index: 111 entries, 6 to 8\n",
      "Data columns (total 12 columns):\n",
      " #   Column             Non-Null Count  Dtype  \n",
      "---  ------             --------------  -----  \n",
      " 0   Weight             111 non-null    float64\n",
      " 1   Length1            111 non-null    float64\n",
      " 2   Length2            111 non-null    float64\n",
      " 3   Length3            111 non-null    float64\n",
      " 4   Height             111 non-null    float64\n",
      " 5   Width              111 non-null    float64\n",
      " 6   Species_Parkki     111 non-null    uint8  \n",
      " 7   Species_Perch      111 non-null    uint8  \n",
      " 8   Species_Pike       111 non-null    uint8  \n",
      " 9   Species_Roach      111 non-null    uint8  \n",
      " 10  Species_Smelt      111 non-null    uint8  \n",
      " 11  Species_Whitefish  111 non-null    uint8  \n",
      "dtypes: float64(6), uint8(6)\n",
      "memory usage: 6.7 KB\n"
     ]
    }
   ],
   "source": [
    "df_train.info()"
   ]
  },
  {
   "cell_type": "code",
   "execution_count": 27,
   "id": "dbf95605",
   "metadata": {},
   "outputs": [
    {
     "data": {
      "text/plain": [
       "(111, 12)"
      ]
     },
     "execution_count": 27,
     "metadata": {},
     "output_type": "execute_result"
    }
   ],
   "source": [
    "df_train.shape"
   ]
  },
  {
   "cell_type": "code",
   "execution_count": 28,
   "id": "64ed0ef3",
   "metadata": {},
   "outputs": [
    {
     "name": "stdout",
     "output_type": "stream",
     "text": [
      "<class 'pandas.core.frame.DataFrame'>\n",
      "Int64Index: 48 entries, 45 to 37\n",
      "Data columns (total 12 columns):\n",
      " #   Column             Non-Null Count  Dtype  \n",
      "---  ------             --------------  -----  \n",
      " 0   Weight             48 non-null     float64\n",
      " 1   Length1            48 non-null     float64\n",
      " 2   Length2            48 non-null     float64\n",
      " 3   Length3            48 non-null     float64\n",
      " 4   Height             48 non-null     float64\n",
      " 5   Width              48 non-null     float64\n",
      " 6   Species_Parkki     48 non-null     uint8  \n",
      " 7   Species_Perch      48 non-null     uint8  \n",
      " 8   Species_Pike       48 non-null     uint8  \n",
      " 9   Species_Roach      48 non-null     uint8  \n",
      " 10  Species_Smelt      48 non-null     uint8  \n",
      " 11  Species_Whitefish  48 non-null     uint8  \n",
      "dtypes: float64(6), uint8(6)\n",
      "memory usage: 2.9 KB\n"
     ]
    }
   ],
   "source": [
    "df_test.info()"
   ]
  },
  {
   "cell_type": "code",
   "execution_count": 29,
   "id": "3f66a208",
   "metadata": {},
   "outputs": [
    {
     "data": {
      "text/plain": [
       "(48, 12)"
      ]
     },
     "execution_count": 29,
     "metadata": {},
     "output_type": "execute_result"
    }
   ],
   "source": [
    "df_test.shape"
   ]
  },
  {
   "cell_type": "markdown",
   "id": "4b6ee493",
   "metadata": {},
   "source": [
    "### EXPLORATORY DATA ANALYSIS"
   ]
  },
  {
   "cell_type": "markdown",
   "id": "b6640cb0",
   "metadata": {},
   "source": [
    "### Visualising Numeric Variables"
   ]
  },
  {
   "cell_type": "code",
   "execution_count": 30,
   "id": "30fdfab1",
   "metadata": {},
   "outputs": [
    {
     "name": "stdout",
     "output_type": "stream",
     "text": [
      "<class 'pandas.core.frame.DataFrame'>\n",
      "Int64Index: 111 entries, 6 to 8\n",
      "Data columns (total 12 columns):\n",
      " #   Column             Non-Null Count  Dtype  \n",
      "---  ------             --------------  -----  \n",
      " 0   Weight             111 non-null    float64\n",
      " 1   Length1            111 non-null    float64\n",
      " 2   Length2            111 non-null    float64\n",
      " 3   Length3            111 non-null    float64\n",
      " 4   Height             111 non-null    float64\n",
      " 5   Width              111 non-null    float64\n",
      " 6   Species_Parkki     111 non-null    uint8  \n",
      " 7   Species_Perch      111 non-null    uint8  \n",
      " 8   Species_Pike       111 non-null    uint8  \n",
      " 9   Species_Roach      111 non-null    uint8  \n",
      " 10  Species_Smelt      111 non-null    uint8  \n",
      " 11  Species_Whitefish  111 non-null    uint8  \n",
      "dtypes: float64(6), uint8(6)\n",
      "memory usage: 6.7 KB\n"
     ]
    }
   ],
   "source": [
    "df_train.info()"
   ]
  },
  {
   "cell_type": "code",
   "execution_count": 31,
   "id": "15945332",
   "metadata": {},
   "outputs": [
    {
     "data": {
      "text/plain": [
       "Index(['Weight', 'Length1', 'Length2', 'Length3', 'Height', 'Width',\n",
       "       'Species_Parkki', 'Species_Perch', 'Species_Pike', 'Species_Roach',\n",
       "       'Species_Smelt', 'Species_Whitefish'],\n",
       "      dtype='object')"
      ]
     },
     "execution_count": 31,
     "metadata": {},
     "output_type": "execute_result"
    }
   ],
   "source": [
    "df_train.columns"
   ]
  },
  {
   "cell_type": "code",
   "execution_count": 32,
   "id": "3cb3120f",
   "metadata": {},
   "outputs": [
    {
     "data": {
      "image/png": "[encoded data removed]",
      "text/plain": [
       "<Figure size 1080x1080 with 42 Axes>"
      ]
     },
     "metadata": {
      "needs_background": "light"
     },
     "output_type": "display_data"
    }
   ],
   "source": [
    "fish_num=df_train[[ 'Weight', 'Length1', 'Length2', 'Length3', 'Height', 'Width']]\n",
    "\n",
    "sns.pairplot(fish_num, diag_kind='kde')\n",
    "plt.show()"
   ]
  },
  {
   "cell_type": "markdown",
   "id": "19440e85",
   "metadata": {},
   "source": [
    "### Visualising Catagorical Variables"
   ]
  },
  {
   "cell_type": "code",
   "execution_count": 33,
   "id": "67e72891",
   "metadata": {},
   "outputs": [
    {
     "name": "stdout",
     "output_type": "stream",
     "text": [
      "<class 'pandas.core.frame.DataFrame'>\n",
      "Int64Index: 111 entries, 6 to 8\n",
      "Data columns (total 12 columns):\n",
      " #   Column             Non-Null Count  Dtype  \n",
      "---  ------             --------------  -----  \n",
      " 0   Weight             111 non-null    float64\n",
      " 1   Length1            111 non-null    float64\n",
      " 2   Length2            111 non-null    float64\n",
      " 3   Length3            111 non-null    float64\n",
      " 4   Height             111 non-null    float64\n",
      " 5   Width              111 non-null    float64\n",
      " 6   Species_Parkki     111 non-null    uint8  \n",
      " 7   Species_Perch      111 non-null    uint8  \n",
      " 8   Species_Pike       111 non-null    uint8  \n",
      " 9   Species_Roach      111 non-null    uint8  \n",
      " 10  Species_Smelt      111 non-null    uint8  \n",
      " 11  Species_Whitefish  111 non-null    uint8  \n",
      "dtypes: float64(6), uint8(6)\n",
      "memory usage: 6.7 KB\n"
     ]
    }
   ],
   "source": [
    "df_train.info()"
   ]
  },
  {
   "cell_type": "code",
   "execution_count": 34,
   "id": "4ad77500",
   "metadata": {},
   "outputs": [
    {
     "data": {
      "image/png": "[encoded data removed]",
      "text/plain": [
       "<Figure size 1800x720 with 4 Axes>"
      ]
     },
     "metadata": {
      "needs_background": "light"
     },
     "output_type": "display_data"
    }
   ],
   "source": [
    "plt.figure(figsize=(25, 10))\n",
    "plt.subplot(3,2,1)\n",
    "sns.regplot(x = 'Length1', y = 'Weight', data = fish)\n",
    "plt.subplot(3,2,2)\n",
    "sns.regplot(x = 'Length2', y = 'Weight', data = fish)\n",
    "plt.subplot(3,2,3)\n",
    "sns.regplot(x = 'Length3', y = 'Weight', data = fish)\n",
    "plt.subplot(3,2,4)\n",
    "sns.regplot(x = 'Height', y = 'Weight', data = fish)\n",
    "plt.show()"
   ]
  },
  {
   "cell_type": "code",
   "execution_count": 35,
   "id": "03103b5c",
   "metadata": {},
   "outputs": [
    {
     "data": {
      "image/png": "[encoded data removed]",
      "text/plain": [
       "<Figure size 432x288 with 1 Axes>"
      ]
     },
     "metadata": {
      "needs_background": "light"
     },
     "output_type": "display_data"
    }
   ],
   "source": [
    "plt.figure()\n",
    "sns.regplot(x = 'Width', y = 'Weight', data = fish);\n",
    "plt.show()"
   ]
  },
  {
   "cell_type": "markdown",
   "id": "8daa4a44",
   "metadata": {},
   "source": [
    "### Correlation Matrix"
   ]
  },
  {
   "cell_type": "code",
   "execution_count": 36,
   "id": "172f8a81",
   "metadata": {},
   "outputs": [
    {
     "data": {
      "image/png": "[encoded data removed]",
      "text/plain": [
       "<Figure size 720x720 with 2 Axes>"
      ]
     },
     "metadata": {
      "needs_background": "light"
     },
     "output_type": "display_data"
    }
   ],
   "source": [
    "plt.figure(figsize = (10,10))\n",
    "sns.heatmap(fish_new.corr(), annot = True, cmap=\"RdBu\")\n",
    "plt.show()"
   ]
  },
  {
   "cell_type": "markdown",
   "id": "7e2f80d6",
   "metadata": {},
   "source": [
    "### RESCALING THE FEATURES"
   ]
  },
  {
   "cell_type": "code",
   "execution_count": 37,
   "id": "8ad28d57",
   "metadata": {},
   "outputs": [],
   "source": [
    "from sklearn.preprocessing import MinMaxScaler"
   ]
  },
  {
   "cell_type": "code",
   "execution_count": 38,
   "id": "ea2fedc1",
   "metadata": {},
   "outputs": [],
   "source": [
    "scaler= MinMaxScaler()"
   ]
  },
  {
   "cell_type": "code",
   "execution_count": 39,
   "id": "8aa50779",
   "metadata": {},
   "outputs": [
    {
     "data": {
      "text/html": [
       "<div>\n",
       "<style scoped>\n",
       "    .dataframe tbody tr th:only-of-type {\n",
       "        vertical-align: middle;\n",
       "    }\n",
       "\n",
       "    .dataframe tbody tr th {\n",
       "        vertical-align: top;\n",
       "    }\n",
       "\n",
       "    .dataframe thead th {\n",
       "        text-align: right;\n",
       "    }\n",
       "</style>\n",
       "<table border=\"1\" class=\"dataframe\">\n",
       "  <thead>\n",
       "    <tr style=\"text-align: right;\">\n",
       "      <th></th>\n",
       "      <th>Weight</th>\n",
       "      <th>Length1</th>\n",
       "      <th>Length2</th>\n",
       "      <th>Length3</th>\n",
       "      <th>Height</th>\n",
       "      <th>Width</th>\n",
       "      <th>Species_Parkki</th>\n",
       "      <th>Species_Perch</th>\n",
       "      <th>Species_Pike</th>\n",
       "      <th>Species_Roach</th>\n",
       "      <th>Species_Smelt</th>\n",
       "      <th>Species_Whitefish</th>\n",
       "    </tr>\n",
       "  </thead>\n",
       "  <tbody>\n",
       "    <tr>\n",
       "      <th>6</th>\n",
       "      <td>500.0</td>\n",
       "      <td>26.8</td>\n",
       "      <td>29.7</td>\n",
       "      <td>34.5</td>\n",
       "      <td>14.1795</td>\n",
       "      <td>5.2785</td>\n",
       "      <td>0</td>\n",
       "      <td>0</td>\n",
       "      <td>0</td>\n",
       "      <td>0</td>\n",
       "      <td>0</td>\n",
       "      <td>0</td>\n",
       "    </tr>\n",
       "    <tr>\n",
       "      <th>25</th>\n",
       "      <td>725.0</td>\n",
       "      <td>31.8</td>\n",
       "      <td>35.0</td>\n",
       "      <td>40.9</td>\n",
       "      <td>16.3600</td>\n",
       "      <td>6.0532</td>\n",
       "      <td>0</td>\n",
       "      <td>0</td>\n",
       "      <td>0</td>\n",
       "      <td>0</td>\n",
       "      <td>0</td>\n",
       "      <td>0</td>\n",
       "    </tr>\n",
       "    <tr>\n",
       "      <th>21</th>\n",
       "      <td>685.0</td>\n",
       "      <td>31.4</td>\n",
       "      <td>34.0</td>\n",
       "      <td>39.2</td>\n",
       "      <td>15.9936</td>\n",
       "      <td>5.3704</td>\n",
       "      <td>0</td>\n",
       "      <td>0</td>\n",
       "      <td>0</td>\n",
       "      <td>0</td>\n",
       "      <td>0</td>\n",
       "      <td>0</td>\n",
       "    </tr>\n",
       "    <tr>\n",
       "      <th>75</th>\n",
       "      <td>51.5</td>\n",
       "      <td>15.0</td>\n",
       "      <td>16.2</td>\n",
       "      <td>17.2</td>\n",
       "      <td>4.5924</td>\n",
       "      <td>2.6316</td>\n",
       "      <td>0</td>\n",
       "      <td>1</td>\n",
       "      <td>0</td>\n",
       "      <td>0</td>\n",
       "      <td>0</td>\n",
       "      <td>0</td>\n",
       "    </tr>\n",
       "    <tr>\n",
       "      <th>84</th>\n",
       "      <td>125.0</td>\n",
       "      <td>19.0</td>\n",
       "      <td>21.0</td>\n",
       "      <td>22.5</td>\n",
       "      <td>5.6925</td>\n",
       "      <td>3.6675</td>\n",
       "      <td>0</td>\n",
       "      <td>1</td>\n",
       "      <td>0</td>\n",
       "      <td>0</td>\n",
       "      <td>0</td>\n",
       "      <td>0</td>\n",
       "    </tr>\n",
       "  </tbody>\n",
       "</table>\n",
       "</div>"
      ],
      "text/plain": [
       "    Weight  Length1  Length2  Length3   Height   Width  Species_Parkki  \\\n",
       "6    500.0     26.8     29.7     34.5  14.1795  5.2785               0   \n",
       "25   725.0     31.8     35.0     40.9  16.3600  6.0532               0   \n",
       "21   685.0     31.4     34.0     39.2  15.9936  5.3704               0   \n",
       "75    51.5     15.0     16.2     17.2   4.5924  2.6316               0   \n",
       "84   125.0     19.0     21.0     22.5   5.6925  3.6675               0   \n",
       "\n",
       "    Species_Perch  Species_Pike  Species_Roach  Species_Smelt  \\\n",
       "6               0             0              0              0   \n",
       "25              0             0              0              0   \n",
       "21              0             0              0              0   \n",
       "75              1             0              0              0   \n",
       "84              1             0              0              0   \n",
       "\n",
       "    Species_Whitefish  \n",
       "6                   0  \n",
       "25                  0  \n",
       "21                  0  \n",
       "75                  0  \n",
       "84                  0  "
      ]
     },
     "execution_count": 39,
     "metadata": {},
     "output_type": "execute_result"
    }
   ],
   "source": [
    "df_train.head()"
   ]
  },
  {
   "cell_type": "code",
   "execution_count": 40,
   "id": "02b94f49",
   "metadata": {},
   "outputs": [
    {
     "data": {
      "text/plain": [
       "Index(['Weight', 'Length1', 'Length2', 'Length3', 'Height', 'Width',\n",
       "       'Species_Parkki', 'Species_Perch', 'Species_Pike', 'Species_Roach',\n",
       "       'Species_Smelt', 'Species_Whitefish'],\n",
       "      dtype='object')"
      ]
     },
     "execution_count": 40,
     "metadata": {},
     "output_type": "execute_result"
    }
   ],
   "source": [
    "df_train.columns"
   ]
  },
  {
   "cell_type": "code",
   "execution_count": 41,
   "id": "4413872b",
   "metadata": {},
   "outputs": [],
   "source": [
    "num_vars = ['Length1', 'Length2', 'Length3', 'Height', 'Width']\n",
    "\n",
    "df_train[num_vars] = scaler.fit_transform(df_train[num_vars])"
   ]
  },
  {
   "cell_type": "code",
   "execution_count": 42,
   "id": "f69922d8",
   "metadata": {},
   "outputs": [
    {
     "data": {
      "text/html": [
       "<div>\n",
       "<style scoped>\n",
       "    .dataframe tbody tr th:only-of-type {\n",
       "        vertical-align: middle;\n",
       "    }\n",
       "\n",
       "    .dataframe tbody tr th {\n",
       "        vertical-align: top;\n",
       "    }\n",
       "\n",
       "    .dataframe thead th {\n",
       "        text-align: right;\n",
       "    }\n",
       "</style>\n",
       "<table border=\"1\" class=\"dataframe\">\n",
       "  <thead>\n",
       "    <tr style=\"text-align: right;\">\n",
       "      <th></th>\n",
       "      <th>Weight</th>\n",
       "      <th>Length1</th>\n",
       "      <th>Length2</th>\n",
       "      <th>Length3</th>\n",
       "      <th>Height</th>\n",
       "      <th>Width</th>\n",
       "      <th>Species_Parkki</th>\n",
       "      <th>Species_Perch</th>\n",
       "      <th>Species_Pike</th>\n",
       "      <th>Species_Roach</th>\n",
       "      <th>Species_Smelt</th>\n",
       "      <th>Species_Whitefish</th>\n",
       "    </tr>\n",
       "  </thead>\n",
       "  <tbody>\n",
       "    <tr>\n",
       "      <th>6</th>\n",
       "      <td>500.0</td>\n",
       "      <td>0.374757</td>\n",
       "      <td>0.387273</td>\n",
       "      <td>0.434122</td>\n",
       "      <td>0.736446</td>\n",
       "      <td>0.590554</td>\n",
       "      <td>0</td>\n",
       "      <td>0</td>\n",
       "      <td>0</td>\n",
       "      <td>0</td>\n",
       "      <td>0</td>\n",
       "      <td>0</td>\n",
       "    </tr>\n",
       "    <tr>\n",
       "      <th>25</th>\n",
       "      <td>725.0</td>\n",
       "      <td>0.471845</td>\n",
       "      <td>0.483636</td>\n",
       "      <td>0.542230</td>\n",
       "      <td>0.865417</td>\n",
       "      <td>0.701327</td>\n",
       "      <td>0</td>\n",
       "      <td>0</td>\n",
       "      <td>0</td>\n",
       "      <td>0</td>\n",
       "      <td>0</td>\n",
       "      <td>0</td>\n",
       "    </tr>\n",
       "    <tr>\n",
       "      <th>21</th>\n",
       "      <td>685.0</td>\n",
       "      <td>0.464078</td>\n",
       "      <td>0.465455</td>\n",
       "      <td>0.513514</td>\n",
       "      <td>0.843745</td>\n",
       "      <td>0.603695</td>\n",
       "      <td>0</td>\n",
       "      <td>0</td>\n",
       "      <td>0</td>\n",
       "      <td>0</td>\n",
       "      <td>0</td>\n",
       "      <td>0</td>\n",
       "    </tr>\n",
       "    <tr>\n",
       "      <th>75</th>\n",
       "      <td>51.5</td>\n",
       "      <td>0.145631</td>\n",
       "      <td>0.141818</td>\n",
       "      <td>0.141892</td>\n",
       "      <td>0.169397</td>\n",
       "      <td>0.212080</td>\n",
       "      <td>0</td>\n",
       "      <td>1</td>\n",
       "      <td>0</td>\n",
       "      <td>0</td>\n",
       "      <td>0</td>\n",
       "      <td>0</td>\n",
       "    </tr>\n",
       "    <tr>\n",
       "      <th>84</th>\n",
       "      <td>125.0</td>\n",
       "      <td>0.223301</td>\n",
       "      <td>0.229091</td>\n",
       "      <td>0.231419</td>\n",
       "      <td>0.234465</td>\n",
       "      <td>0.360201</td>\n",
       "      <td>0</td>\n",
       "      <td>1</td>\n",
       "      <td>0</td>\n",
       "      <td>0</td>\n",
       "      <td>0</td>\n",
       "      <td>0</td>\n",
       "    </tr>\n",
       "  </tbody>\n",
       "</table>\n",
       "</div>"
      ],
      "text/plain": [
       "    Weight   Length1   Length2   Length3    Height     Width  Species_Parkki  \\\n",
       "6    500.0  0.374757  0.387273  0.434122  0.736446  0.590554               0   \n",
       "25   725.0  0.471845  0.483636  0.542230  0.865417  0.701327               0   \n",
       "21   685.0  0.464078  0.465455  0.513514  0.843745  0.603695               0   \n",
       "75    51.5  0.145631  0.141818  0.141892  0.169397  0.212080               0   \n",
       "84   125.0  0.223301  0.229091  0.231419  0.234465  0.360201               0   \n",
       "\n",
       "    Species_Perch  Species_Pike  Species_Roach  Species_Smelt  \\\n",
       "6               0             0              0              0   \n",
       "25              0             0              0              0   \n",
       "21              0             0              0              0   \n",
       "75              1             0              0              0   \n",
       "84              1             0              0              0   \n",
       "\n",
       "    Species_Whitefish  \n",
       "6                   0  \n",
       "25                  0  \n",
       "21                  0  \n",
       "75                  0  \n",
       "84                  0  "
      ]
     },
     "execution_count": 42,
     "metadata": {},
     "output_type": "execute_result"
    }
   ],
   "source": [
    "df_train.head()"
   ]
  },
  {
   "cell_type": "code",
   "execution_count": 43,
   "id": "91f20a42",
   "metadata": {},
   "outputs": [
    {
     "data": {
      "text/html": [
       "<div>\n",
       "<style scoped>\n",
       "    .dataframe tbody tr th:only-of-type {\n",
       "        vertical-align: middle;\n",
       "    }\n",
       "\n",
       "    .dataframe tbody tr th {\n",
       "        vertical-align: top;\n",
       "    }\n",
       "\n",
       "    .dataframe thead th {\n",
       "        text-align: right;\n",
       "    }\n",
       "</style>\n",
       "<table border=\"1\" class=\"dataframe\">\n",
       "  <thead>\n",
       "    <tr style=\"text-align: right;\">\n",
       "      <th></th>\n",
       "      <th>Weight</th>\n",
       "      <th>Length1</th>\n",
       "      <th>Length2</th>\n",
       "      <th>Length3</th>\n",
       "      <th>Height</th>\n",
       "      <th>Width</th>\n",
       "      <th>Species_Parkki</th>\n",
       "      <th>Species_Perch</th>\n",
       "      <th>Species_Pike</th>\n",
       "      <th>Species_Roach</th>\n",
       "      <th>Species_Smelt</th>\n",
       "      <th>Species_Whitefish</th>\n",
       "    </tr>\n",
       "  </thead>\n",
       "  <tbody>\n",
       "    <tr>\n",
       "      <th>count</th>\n",
       "      <td>111.000000</td>\n",
       "      <td>111.000000</td>\n",
       "      <td>111.000000</td>\n",
       "      <td>111.000000</td>\n",
       "      <td>111.000000</td>\n",
       "      <td>111.000000</td>\n",
       "      <td>111.000000</td>\n",
       "      <td>111.000000</td>\n",
       "      <td>111.000000</td>\n",
       "      <td>111.000000</td>\n",
       "      <td>111.000000</td>\n",
       "      <td>111.000000</td>\n",
       "    </tr>\n",
       "    <tr>\n",
       "      <th>mean</th>\n",
       "      <td>395.444144</td>\n",
       "      <td>0.361847</td>\n",
       "      <td>0.361818</td>\n",
       "      <td>0.376446</td>\n",
       "      <td>0.421112</td>\n",
       "      <td>0.466662</td>\n",
       "      <td>0.081081</td>\n",
       "      <td>0.360360</td>\n",
       "      <td>0.108108</td>\n",
       "      <td>0.117117</td>\n",
       "      <td>0.081081</td>\n",
       "      <td>0.045045</td>\n",
       "    </tr>\n",
       "    <tr>\n",
       "      <th>std</th>\n",
       "      <td>370.471174</td>\n",
       "      <td>0.199643</td>\n",
       "      <td>0.200158</td>\n",
       "      <td>0.200944</td>\n",
       "      <td>0.244896</td>\n",
       "      <td>0.239262</td>\n",
       "      <td>0.274198</td>\n",
       "      <td>0.482282</td>\n",
       "      <td>0.311925</td>\n",
       "      <td>0.323018</td>\n",
       "      <td>0.274198</td>\n",
       "      <td>0.208344</td>\n",
       "    </tr>\n",
       "    <tr>\n",
       "      <th>min</th>\n",
       "      <td>5.900000</td>\n",
       "      <td>0.000000</td>\n",
       "      <td>0.000000</td>\n",
       "      <td>0.000000</td>\n",
       "      <td>0.000000</td>\n",
       "      <td>0.000000</td>\n",
       "      <td>0.000000</td>\n",
       "      <td>0.000000</td>\n",
       "      <td>0.000000</td>\n",
       "      <td>0.000000</td>\n",
       "      <td>0.000000</td>\n",
       "      <td>0.000000</td>\n",
       "    </tr>\n",
       "    <tr>\n",
       "      <th>25%</th>\n",
       "      <td>120.000000</td>\n",
       "      <td>0.227184</td>\n",
       "      <td>0.229091</td>\n",
       "      <td>0.245777</td>\n",
       "      <td>0.246516</td>\n",
       "      <td>0.323231</td>\n",
       "      <td>0.000000</td>\n",
       "      <td>0.000000</td>\n",
       "      <td>0.000000</td>\n",
       "      <td>0.000000</td>\n",
       "      <td>0.000000</td>\n",
       "      <td>0.000000</td>\n",
       "    </tr>\n",
       "    <tr>\n",
       "      <th>50%</th>\n",
       "      <td>272.000000</td>\n",
       "      <td>0.322330</td>\n",
       "      <td>0.329091</td>\n",
       "      <td>0.341216</td>\n",
       "      <td>0.358644</td>\n",
       "      <td>0.443148</td>\n",
       "      <td>0.000000</td>\n",
       "      <td>0.000000</td>\n",
       "      <td>0.000000</td>\n",
       "      <td>0.000000</td>\n",
       "      <td>0.000000</td>\n",
       "      <td>0.000000</td>\n",
       "    </tr>\n",
       "    <tr>\n",
       "      <th>75%</th>\n",
       "      <td>615.000000</td>\n",
       "      <td>0.474757</td>\n",
       "      <td>0.483636</td>\n",
       "      <td>0.511824</td>\n",
       "      <td>0.615893</td>\n",
       "      <td>0.597239</td>\n",
       "      <td>0.000000</td>\n",
       "      <td>1.000000</td>\n",
       "      <td>0.000000</td>\n",
       "      <td>0.000000</td>\n",
       "      <td>0.000000</td>\n",
       "      <td>0.000000</td>\n",
       "    </tr>\n",
       "    <tr>\n",
       "      <th>max</th>\n",
       "      <td>1650.000000</td>\n",
       "      <td>1.000000</td>\n",
       "      <td>1.000000</td>\n",
       "      <td>1.000000</td>\n",
       "      <td>1.000000</td>\n",
       "      <td>1.000000</td>\n",
       "      <td>1.000000</td>\n",
       "      <td>1.000000</td>\n",
       "      <td>1.000000</td>\n",
       "      <td>1.000000</td>\n",
       "      <td>1.000000</td>\n",
       "      <td>1.000000</td>\n",
       "    </tr>\n",
       "  </tbody>\n",
       "</table>\n",
       "</div>"
      ],
      "text/plain": [
       "            Weight     Length1     Length2     Length3      Height  \\\n",
       "count   111.000000  111.000000  111.000000  111.000000  111.000000   \n",
       "mean    395.444144    0.361847    0.361818    0.376446    0.421112   \n",
       "std     370.471174    0.199643    0.200158    0.200944    0.244896   \n",
       "min       5.900000    0.000000    0.000000    0.000000    0.000000   \n",
       "25%     120.000000    0.227184    0.229091    0.245777    0.246516   \n",
       "50%     272.000000    0.322330    0.329091    0.341216    0.358644   \n",
       "75%     615.000000    0.474757    0.483636    0.511824    0.615893   \n",
       "max    1650.000000    1.000000    1.000000    1.000000    1.000000   \n",
       "\n",
       "            Width  Species_Parkki  Species_Perch  Species_Pike  Species_Roach  \\\n",
       "count  111.000000      111.000000     111.000000    111.000000     111.000000   \n",
       "mean     0.466662        0.081081       0.360360      0.108108       0.117117   \n",
       "std      0.239262        0.274198       0.482282      0.311925       0.323018   \n",
       "min      0.000000        0.000000       0.000000      0.000000       0.000000   \n",
       "25%      0.323231        0.000000       0.000000      0.000000       0.000000   \n",
       "50%      0.443148        0.000000       0.000000      0.000000       0.000000   \n",
       "75%      0.597239        0.000000       1.000000      0.000000       0.000000   \n",
       "max      1.000000        1.000000       1.000000      1.000000       1.000000   \n",
       "\n",
       "       Species_Smelt  Species_Whitefish  \n",
       "count     111.000000         111.000000  \n",
       "mean        0.081081           0.045045  \n",
       "std         0.274198           0.208344  \n",
       "min         0.000000           0.000000  \n",
       "25%         0.000000           0.000000  \n",
       "50%         0.000000           0.000000  \n",
       "75%         0.000000           0.000000  \n",
       "max         1.000000           1.000000  "
      ]
     },
     "execution_count": 43,
     "metadata": {},
     "output_type": "execute_result"
    }
   ],
   "source": [
    "df_train.describe()"
   ]
  },
  {
   "cell_type": "markdown",
   "id": "00efc89d",
   "metadata": {},
   "source": [
    "### BUILDING A LINEAR MODEL"
   ]
  },
  {
   "cell_type": "markdown",
   "id": "884436ae",
   "metadata": {},
   "source": [
    "### Dividing into X and Y sets for the model building"
   ]
  },
  {
   "cell_type": "code",
   "execution_count": 44,
   "id": "8c92c9f9",
   "metadata": {},
   "outputs": [],
   "source": [
    "y_train = df_train.pop('Weight')\n",
    "X_train = df_train"
   ]
  },
  {
   "cell_type": "code",
   "execution_count": 45,
   "id": "c3ffffcf",
   "metadata": {},
   "outputs": [],
   "source": [
    "from sklearn.feature_selection import RFE\n",
    "from sklearn.linear_model import LinearRegression"
   ]
  },
  {
   "cell_type": "code",
   "execution_count": 46,
   "id": "135d3475",
   "metadata": {},
   "outputs": [],
   "source": [
    "lm= LinearRegression()\n",
    "lm.fit(X_train,y_train)\n",
    "rfe= RFE(lm,6)\n",
    "rfe=rfe.fit(X_train,y_train)"
   ]
  },
  {
   "cell_type": "code",
   "execution_count": 47,
   "id": "96867876",
   "metadata": {},
   "outputs": [
    {
     "data": {
      "text/plain": [
       "[('Length1', True, 1),\n",
       " ('Length2', True, 1),\n",
       " ('Length3', True, 1),\n",
       " ('Height', True, 1),\n",
       " ('Width', False, 5),\n",
       " ('Species_Parkki', False, 2),\n",
       " ('Species_Perch', False, 4),\n",
       " ('Species_Pike', True, 1),\n",
       " ('Species_Roach', False, 3),\n",
       " ('Species_Smelt', True, 1),\n",
       " ('Species_Whitefish', False, 6)]"
      ]
     },
     "execution_count": 47,
     "metadata": {},
     "output_type": "execute_result"
    }
   ],
   "source": [
    "list(zip(X_train.columns,rfe.support_,rfe.ranking_))"
   ]
  },
  {
   "cell_type": "code",
   "execution_count": 48,
   "id": "8ad5ac47",
   "metadata": {},
   "outputs": [
    {
     "data": {
      "text/plain": [
       "Index(['Length1', 'Length2', 'Length3', 'Height', 'Species_Pike',\n",
       "       'Species_Smelt'],\n",
       "      dtype='object')"
      ]
     },
     "execution_count": 48,
     "metadata": {},
     "output_type": "execute_result"
    }
   ],
   "source": [
    "col=X_train.columns[rfe.support_]\n",
    "col"
   ]
  },
  {
   "cell_type": "code",
   "execution_count": 49,
   "id": "34938a84",
   "metadata": {},
   "outputs": [
    {
     "data": {
      "text/plain": [
       "Index(['Width', 'Species_Parkki', 'Species_Perch', 'Species_Roach',\n",
       "       'Species_Whitefish'],\n",
       "      dtype='object')"
      ]
     },
     "execution_count": 49,
     "metadata": {},
     "output_type": "execute_result"
    }
   ],
   "source": [
    "X_train.columns[~rfe.support_]"
   ]
  },
  {
   "cell_type": "code",
   "execution_count": 50,
   "id": "c229617e",
   "metadata": {},
   "outputs": [],
   "source": [
    "X_train_rfe = X_train[col]"
   ]
  },
  {
   "cell_type": "markdown",
   "id": "4e46f762",
   "metadata": {},
   "source": [
    "### Building Linear Model using 'STATS MODEL'"
   ]
  },
  {
   "cell_type": "markdown",
   "id": "5afa5268",
   "metadata": {},
   "source": [
    "### Model 1"
   ]
  },
  {
   "cell_type": "markdown",
   "id": "1f0623bf",
   "metadata": {},
   "source": [
    "### VIF"
   ]
  },
  {
   "cell_type": "code",
   "execution_count": 52,
   "id": "ab9f0a73",
   "metadata": {},
   "outputs": [
    {
     "data": {
      "text/html": [
       "<div>\n",
       "<style scoped>\n",
       "    .dataframe tbody tr th:only-of-type {\n",
       "        vertical-align: middle;\n",
       "    }\n",
       "\n",
       "    .dataframe tbody tr th {\n",
       "        vertical-align: top;\n",
       "    }\n",
       "\n",
       "    .dataframe thead th {\n",
       "        text-align: right;\n",
       "    }\n",
       "</style>\n",
       "<table border=\"1\" class=\"dataframe\">\n",
       "  <thead>\n",
       "    <tr style=\"text-align: right;\">\n",
       "      <th></th>\n",
       "      <th>Features</th>\n",
       "      <th>VIF</th>\n",
       "    </tr>\n",
       "  </thead>\n",
       "  <tbody>\n",
       "    <tr>\n",
       "      <th>1</th>\n",
       "      <td>Length2</td>\n",
       "      <td>9910.62</td>\n",
       "    </tr>\n",
       "    <tr>\n",
       "      <th>0</th>\n",
       "      <td>Length1</td>\n",
       "      <td>7992.47</td>\n",
       "    </tr>\n",
       "    <tr>\n",
       "      <th>2</th>\n",
       "      <td>Length3</td>\n",
       "      <td>1926.67</td>\n",
       "    </tr>\n",
       "    <tr>\n",
       "      <th>3</th>\n",
       "      <td>Height</td>\n",
       "      <td>61.94</td>\n",
       "    </tr>\n",
       "    <tr>\n",
       "      <th>4</th>\n",
       "      <td>Species_Pike</td>\n",
       "      <td>5.97</td>\n",
       "    </tr>\n",
       "    <tr>\n",
       "      <th>5</th>\n",
       "      <td>Species_Smelt</td>\n",
       "      <td>1.45</td>\n",
       "    </tr>\n",
       "  </tbody>\n",
       "</table>\n",
       "</div>"
      ],
      "text/plain": [
       "        Features      VIF\n",
       "1        Length2  9910.62\n",
       "0        Length1  7992.47\n",
       "2        Length3  1926.67\n",
       "3         Height    61.94\n",
       "4   Species_Pike     5.97\n",
       "5  Species_Smelt     1.45"
      ]
     },
     "execution_count": 52,
     "metadata": {},
     "output_type": "execute_result"
    }
   ],
   "source": [
    "# Check for the VIF values of the feature variables. \n",
    "from statsmodels.stats.outliers_influence import variance_inflation_factor\n",
    "\n",
    "# Create a dataframe that will contain the names of all the feature variables and their respective VIFs\n",
    "vif = pd.DataFrame()\n",
    "vif['Features'] = X_train_rfe.columns\n",
    "vif['VIF'] = [variance_inflation_factor(X_train_rfe.values, i) for i in range(X_train_rfe.shape[1])]\n",
    "vif['VIF'] = round(vif['VIF'], 2)\n",
    "vif = vif.sort_values(by = \"VIF\", ascending = False)\n",
    "vif"
   ]
  },
  {
   "cell_type": "code",
   "execution_count": 53,
   "id": "d74e7818",
   "metadata": {},
   "outputs": [],
   "source": [
    "import statsmodels.api as sm\n",
    "\n",
    "# Add a constant\n",
    "X_train_lm1 = sm.add_constant(X_train_rfe)\n",
    "\n",
    "# Create a first fitted model\n",
    "lr1 = sm.OLS(y_train, X_train_lm1).fit()"
   ]
  },
  {
   "cell_type": "code",
   "execution_count": 54,
   "id": "f18fb1d6",
   "metadata": {},
   "outputs": [
    {
     "data": {
      "text/plain": [
       "const            -390.352961\n",
       "Length1          -938.437859\n",
       "Length2          3230.299325\n",
       "Length3           -98.698510\n",
       "Height             20.925668\n",
       "Species_Pike     -342.905143\n",
       "Species_Smelt     271.341705\n",
       "dtype: float64"
      ]
     },
     "execution_count": 54,
     "metadata": {},
     "output_type": "execute_result"
    }
   ],
   "source": [
    "lr1.params"
   ]
  },
  {
   "cell_type": "code",
   "execution_count": 55,
   "id": "930a9f23",
   "metadata": {},
   "outputs": [
    {
     "name": "stdout",
     "output_type": "stream",
     "text": [
      "                            OLS Regression Results                            \n",
      "==============================================================================\n",
      "Dep. Variable:                 Weight   R-squared:                       0.934\n",
      "Model:                            OLS   Adj. R-squared:                  0.930\n",
      "Method:                 Least Squares   F-statistic:                     246.3\n",
      "Date:                Fri, 15 Oct 2021   Prob (F-statistic):           4.21e-59\n",
      "Time:                        19:32:39   Log-Likelihood:                -662.46\n",
      "No. Observations:                 111   AIC:                             1339.\n",
      "Df Residuals:                     104   BIC:                             1358.\n",
      "Df Model:                           6                                         \n",
      "Covariance Type:            nonrobust                                         \n",
      "=================================================================================\n",
      "                    coef    std err          t      P>|t|      [0.025      0.975]\n",
      "---------------------------------------------------------------------------------\n",
      "const          -390.3530     26.022    -15.001      0.000    -441.955    -338.751\n",
      "Length1        -938.4379   2015.139     -0.466      0.642   -4934.535    3057.659\n",
      "Length2        3230.2993   2250.922      1.435      0.154   -1233.363    7693.961\n",
      "Length3         -98.6985    969.436     -0.102      0.919   -2021.127    1823.730\n",
      "Height           20.9257    150.285      0.139      0.890    -277.096     318.947\n",
      "Species_Pike   -342.9051     71.820     -4.774      0.000    -485.328    -200.483\n",
      "Species_Smelt   271.3417     43.635      6.218      0.000     184.811     357.872\n",
      "==============================================================================\n",
      "Omnibus:                       23.155   Durbin-Watson:                   2.224\n",
      "Prob(Omnibus):                  0.000   Jarque-Bera (JB):               42.794\n",
      "Skew:                           0.872   Prob(JB):                     5.10e-10\n",
      "Kurtosis:                       5.493   Cond. No.                         414.\n",
      "==============================================================================\n",
      "\n",
      "Notes:\n",
      "[1] Standard Errors assume that the covariance matrix of the errors is correctly specified.\n"
     ]
    }
   ],
   "source": [
    "print(lr1.summary())"
   ]
  },
  {
   "cell_type": "markdown",
   "id": "bfc3a856",
   "metadata": {},
   "source": [
    "### Model 2"
   ]
  },
  {
   "cell_type": "code",
   "execution_count": 56,
   "id": "91c1f463",
   "metadata": {},
   "outputs": [],
   "source": [
    "X_train_new = X_train_rfe.drop([\"Length3\"], axis = 1)"
   ]
  },
  {
   "cell_type": "markdown",
   "id": "682e7df0",
   "metadata": {},
   "source": [
    "### VIF"
   ]
  },
  {
   "cell_type": "code",
   "execution_count": 57,
   "id": "bdf8b00e",
   "metadata": {},
   "outputs": [
    {
     "data": {
      "text/html": [
       "<div>\n",
       "<style scoped>\n",
       "    .dataframe tbody tr th:only-of-type {\n",
       "        vertical-align: middle;\n",
       "    }\n",
       "\n",
       "    .dataframe tbody tr th {\n",
       "        vertical-align: top;\n",
       "    }\n",
       "\n",
       "    .dataframe thead th {\n",
       "        text-align: right;\n",
       "    }\n",
       "</style>\n",
       "<table border=\"1\" class=\"dataframe\">\n",
       "  <thead>\n",
       "    <tr style=\"text-align: right;\">\n",
       "      <th></th>\n",
       "      <th>Features</th>\n",
       "      <th>VIF</th>\n",
       "    </tr>\n",
       "  </thead>\n",
       "  <tbody>\n",
       "    <tr>\n",
       "      <th>1</th>\n",
       "      <td>Length2</td>\n",
       "      <td>8281.01</td>\n",
       "    </tr>\n",
       "    <tr>\n",
       "      <th>0</th>\n",
       "      <td>Length1</td>\n",
       "      <td>7979.89</td>\n",
       "    </tr>\n",
       "    <tr>\n",
       "      <th>2</th>\n",
       "      <td>Height</td>\n",
       "      <td>16.71</td>\n",
       "    </tr>\n",
       "    <tr>\n",
       "      <th>3</th>\n",
       "      <td>Species_Pike</td>\n",
       "      <td>3.52</td>\n",
       "    </tr>\n",
       "    <tr>\n",
       "      <th>4</th>\n",
       "      <td>Species_Smelt</td>\n",
       "      <td>1.30</td>\n",
       "    </tr>\n",
       "  </tbody>\n",
       "</table>\n",
       "</div>"
      ],
      "text/plain": [
       "        Features      VIF\n",
       "1        Length2  8281.01\n",
       "0        Length1  7979.89\n",
       "2         Height    16.71\n",
       "3   Species_Pike     3.52\n",
       "4  Species_Smelt     1.30"
      ]
     },
     "execution_count": 57,
     "metadata": {},
     "output_type": "execute_result"
    }
   ],
   "source": [
    "# Check for the VIF values of the feature variables. \n",
    "from statsmodels.stats.outliers_influence import variance_inflation_factor\n",
    "\n",
    "# Create a dataframe that will contain the names of all the feature variables and their respective VIFs\n",
    "vif = pd.DataFrame()\n",
    "vif['Features'] = X_train_new.columns\n",
    "vif['VIF'] = [variance_inflation_factor(X_train_new.values, i) for i in range(X_train_new.shape[1])]\n",
    "vif['VIF'] = round(vif['VIF'], 2)\n",
    "vif = vif.sort_values(by = \"VIF\", ascending = False)\n",
    "vif"
   ]
  },
  {
   "cell_type": "code",
   "execution_count": 58,
   "id": "23ead924",
   "metadata": {},
   "outputs": [],
   "source": [
    "X_train_lm2 = sm.add_constant(X_train_new)\n",
    "\n",
    "# Create a first fitted model\n",
    "lr2 = sm.OLS(y_train, X_train_lm2).fit()"
   ]
  },
  {
   "cell_type": "code",
   "execution_count": 59,
   "id": "93865be7",
   "metadata": {},
   "outputs": [
    {
     "data": {
      "text/plain": [
       "const            -390.812922\n",
       "Length1          -927.435660\n",
       "Length2          3134.675618\n",
       "Height              7.902951\n",
       "Species_Pike     -347.685749\n",
       "Species_Smelt     270.397627\n",
       "dtype: float64"
      ]
     },
     "execution_count": 59,
     "metadata": {},
     "output_type": "execute_result"
    }
   ],
   "source": [
    "lr2.params"
   ]
  },
  {
   "cell_type": "code",
   "execution_count": 60,
   "id": "7e81053d",
   "metadata": {},
   "outputs": [
    {
     "name": "stdout",
     "output_type": "stream",
     "text": [
      "                            OLS Regression Results                            \n",
      "==============================================================================\n",
      "Dep. Variable:                 Weight   R-squared:                       0.934\n",
      "Model:                            OLS   Adj. R-squared:                  0.931\n",
      "Method:                 Least Squares   F-statistic:                     298.4\n",
      "Date:                Fri, 15 Oct 2021   Prob (F-statistic):           2.32e-60\n",
      "Time:                        19:34:52   Log-Likelihood:                -662.47\n",
      "No. Observations:                 111   AIC:                             1337.\n",
      "Df Residuals:                     105   BIC:                             1353.\n",
      "Df Model:                           5                                         \n",
      "Covariance Type:            nonrobust                                         \n",
      "=================================================================================\n",
      "                    coef    std err          t      P>|t|      [0.025      0.975]\n",
      "---------------------------------------------------------------------------------\n",
      "const          -390.8129     25.506    -15.323      0.000    -441.386    -340.240\n",
      "Length1        -927.4357   2002.734     -0.463      0.644   -4898.488    3043.617\n",
      "Length2        3134.6756   2035.939      1.540      0.127    -902.215    7171.566\n",
      "Height            7.9030     78.521      0.101      0.920    -147.790     163.596\n",
      "Species_Pike   -347.6857     54.087     -6.428      0.000    -454.931    -240.440\n",
      "Species_Smelt   270.3976     42.437      6.372      0.000     186.253     354.543\n",
      "==============================================================================\n",
      "Omnibus:                       23.188   Durbin-Watson:                   2.229\n",
      "Prob(Omnibus):                  0.000   Jarque-Bera (JB):               42.868\n",
      "Skew:                           0.873   Prob(JB):                     4.91e-10\n",
      "Kurtosis:                       5.494   Cond. No.                         378.\n",
      "==============================================================================\n",
      "\n",
      "Notes:\n",
      "[1] Standard Errors assume that the covariance matrix of the errors is correctly specified.\n"
     ]
    }
   ],
   "source": [
    "print(lr2.summary())"
   ]
  },
  {
   "cell_type": "markdown",
   "id": "3291e16b",
   "metadata": {},
   "source": [
    "### Model 3"
   ]
  },
  {
   "cell_type": "code",
   "execution_count": 61,
   "id": "14b2ff3a",
   "metadata": {},
   "outputs": [],
   "source": [
    "X_train_new = X_train_new.drop([\"Height\"], axis = 1)"
   ]
  },
  {
   "cell_type": "markdown",
   "id": "36920698",
   "metadata": {},
   "source": [
    "### VIF"
   ]
  },
  {
   "cell_type": "code",
   "execution_count": 62,
   "id": "c04eb911",
   "metadata": {},
   "outputs": [
    {
     "data": {
      "text/html": [
       "<div>\n",
       "<style scoped>\n",
       "    .dataframe tbody tr th:only-of-type {\n",
       "        vertical-align: middle;\n",
       "    }\n",
       "\n",
       "    .dataframe tbody tr th {\n",
       "        vertical-align: top;\n",
       "    }\n",
       "\n",
       "    .dataframe thead th {\n",
       "        text-align: right;\n",
       "    }\n",
       "</style>\n",
       "<table border=\"1\" class=\"dataframe\">\n",
       "  <thead>\n",
       "    <tr style=\"text-align: right;\">\n",
       "      <th></th>\n",
       "      <th>Features</th>\n",
       "      <th>VIF</th>\n",
       "    </tr>\n",
       "  </thead>\n",
       "  <tbody>\n",
       "    <tr>\n",
       "      <th>0</th>\n",
       "      <td>Length1</td>\n",
       "      <td>6602.24</td>\n",
       "    </tr>\n",
       "    <tr>\n",
       "      <th>1</th>\n",
       "      <td>Length2</td>\n",
       "      <td>6552.08</td>\n",
       "    </tr>\n",
       "    <tr>\n",
       "      <th>2</th>\n",
       "      <td>Species_Pike</td>\n",
       "      <td>1.73</td>\n",
       "    </tr>\n",
       "    <tr>\n",
       "      <th>3</th>\n",
       "      <td>Species_Smelt</td>\n",
       "      <td>1.29</td>\n",
       "    </tr>\n",
       "  </tbody>\n",
       "</table>\n",
       "</div>"
      ],
      "text/plain": [
       "        Features      VIF\n",
       "0        Length1  6602.24\n",
       "1        Length2  6552.08\n",
       "2   Species_Pike     1.73\n",
       "3  Species_Smelt     1.29"
      ]
     },
     "execution_count": 62,
     "metadata": {},
     "output_type": "execute_result"
    }
   ],
   "source": [
    "from statsmodels.stats.outliers_influence import variance_inflation_factor\n",
    "\n",
    "# Create a dataframe that will contain the names of all the feature variables and their respective VIFs\n",
    "vif = pd.DataFrame()\n",
    "vif['Features'] = X_train_new.columns\n",
    "vif['VIF'] = [variance_inflation_factor(X_train_new.values, i) for i in range(X_train_new.shape[1])]\n",
    "vif['VIF'] = round(vif['VIF'], 2)\n",
    "vif = vif.sort_values(by = \"VIF\", ascending = False)\n",
    "vif"
   ]
  },
  {
   "cell_type": "code",
   "execution_count": 63,
   "id": "21b301bc",
   "metadata": {},
   "outputs": [],
   "source": [
    "X_train_lm3 = sm.add_constant(X_train_new)\n",
    "\n",
    "# Create a first fitted model\n",
    "lr3 = sm.OLS(y_train, X_train_lm3).fit()"
   ]
  },
  {
   "cell_type": "code",
   "execution_count": 64,
   "id": "34f64f6a",
   "metadata": {},
   "outputs": [
    {
     "data": {
      "text/plain": [
       "const            -390.403584\n",
       "Length1         -1012.335722\n",
       "Length2          3228.707206\n",
       "Species_Pike     -351.226683\n",
       "Species_Smelt     270.397742\n",
       "dtype: float64"
      ]
     },
     "execution_count": 64,
     "metadata": {},
     "output_type": "execute_result"
    }
   ],
   "source": [
    "lr3.params"
   ]
  },
  {
   "cell_type": "code",
   "execution_count": 65,
   "id": "1df236f2",
   "metadata": {},
   "outputs": [
    {
     "name": "stdout",
     "output_type": "stream",
     "text": [
      "                            OLS Regression Results                            \n",
      "==============================================================================\n",
      "Dep. Variable:                 Weight   R-squared:                       0.934\n",
      "Model:                            OLS   Adj. R-squared:                  0.932\n",
      "Method:                 Least Squares   F-statistic:                     376.5\n",
      "Date:                Fri, 15 Oct 2021   Prob (F-statistic):           1.13e-61\n",
      "Time:                        19:36:57   Log-Likelihood:                -662.47\n",
      "No. Observations:                 111   AIC:                             1335.\n",
      "Df Residuals:                     106   BIC:                             1348.\n",
      "Df Model:                           4                                         \n",
      "Covariance Type:            nonrobust                                         \n",
      "=================================================================================\n",
      "                    coef    std err          t      P>|t|      [0.025      0.975]\n",
      "---------------------------------------------------------------------------------\n",
      "const          -390.4036     25.061    -15.578      0.000    -440.090    -340.717\n",
      "Length1       -1012.3357   1807.920     -0.560      0.577   -4596.713    2572.041\n",
      "Length2        3228.7072   1800.453      1.793      0.076    -340.867    6798.281\n",
      "Species_Pike   -351.2267     40.889     -8.590      0.000    -432.294    -270.159\n",
      "Species_Smelt   270.3977     42.239      6.402      0.000     186.656     354.140\n",
      "==============================================================================\n",
      "Omnibus:                       22.838   Durbin-Watson:                   2.224\n",
      "Prob(Omnibus):                  0.000   Jarque-Bera (JB):               41.853\n",
      "Skew:                           0.863   Prob(JB):                     8.16e-10\n",
      "Kurtosis:                       5.463   Cond. No.                         317.\n",
      "==============================================================================\n",
      "\n",
      "Notes:\n",
      "[1] Standard Errors assume that the covariance matrix of the errors is correctly specified.\n"
     ]
    }
   ],
   "source": [
    "print(lr3.summary())"
   ]
  },
  {
   "cell_type": "markdown",
   "id": "62087173",
   "metadata": {},
   "source": [
    "### Model 4"
   ]
  },
  {
   "cell_type": "code",
   "execution_count": 66,
   "id": "ee106141",
   "metadata": {},
   "outputs": [],
   "source": [
    "X_train_new = X_train_new.drop([\"Length1\"], axis = 1)"
   ]
  },
  {
   "cell_type": "markdown",
   "id": "96f88b3c",
   "metadata": {},
   "source": [
    "### VIF"
   ]
  },
  {
   "cell_type": "code",
   "execution_count": 67,
   "id": "378b691b",
   "metadata": {},
   "outputs": [
    {
     "data": {
      "text/html": [
       "<div>\n",
       "<style scoped>\n",
       "    .dataframe tbody tr th:only-of-type {\n",
       "        vertical-align: middle;\n",
       "    }\n",
       "\n",
       "    .dataframe tbody tr th {\n",
       "        vertical-align: top;\n",
       "    }\n",
       "\n",
       "    .dataframe thead th {\n",
       "        text-align: right;\n",
       "    }\n",
       "</style>\n",
       "<table border=\"1\" class=\"dataframe\">\n",
       "  <thead>\n",
       "    <tr style=\"text-align: right;\">\n",
       "      <th></th>\n",
       "      <th>Features</th>\n",
       "      <th>VIF</th>\n",
       "    </tr>\n",
       "  </thead>\n",
       "  <tbody>\n",
       "    <tr>\n",
       "      <th>0</th>\n",
       "      <td>Length2</td>\n",
       "      <td>1.47</td>\n",
       "    </tr>\n",
       "    <tr>\n",
       "      <th>1</th>\n",
       "      <td>Species_Pike</td>\n",
       "      <td>1.47</td>\n",
       "    </tr>\n",
       "    <tr>\n",
       "      <th>2</th>\n",
       "      <td>Species_Smelt</td>\n",
       "      <td>1.00</td>\n",
       "    </tr>\n",
       "  </tbody>\n",
       "</table>\n",
       "</div>"
      ],
      "text/plain": [
       "        Features   VIF\n",
       "0        Length2  1.47\n",
       "1   Species_Pike  1.47\n",
       "2  Species_Smelt  1.00"
      ]
     },
     "execution_count": 67,
     "metadata": {},
     "output_type": "execute_result"
    }
   ],
   "source": [
    "from statsmodels.stats.outliers_influence import variance_inflation_factor\n",
    "\n",
    "# Create a dataframe that will contain the names of all the feature variables and their respective VIFs\n",
    "vif = pd.DataFrame()\n",
    "vif['Features'] = X_train_new.columns\n",
    "vif['VIF'] = [variance_inflation_factor(X_train_new.values, i) for i in range(X_train_new.shape[1])]\n",
    "vif['VIF'] = round(vif['VIF'], 2)\n",
    "vif = vif.sort_values(by = \"VIF\", ascending = False)\n",
    "vif"
   ]
  },
  {
   "cell_type": "code",
   "execution_count": 68,
   "id": "c45659b7",
   "metadata": {},
   "outputs": [],
   "source": [
    "X_train_lm4 = sm.add_constant(X_train_new)\n",
    "\n",
    "# Create a first fitted model\n",
    "lr4 = sm.OLS(y_train, X_train_lm4).fit()"
   ]
  },
  {
   "cell_type": "code",
   "execution_count": 69,
   "id": "6c46ba95",
   "metadata": {},
   "outputs": [
    {
     "data": {
      "text/plain": [
       "const            -390.551562\n",
       "Length2          2221.235585\n",
       "Species_Pike     -359.259616\n",
       "Species_Smelt     260.864342\n",
       "dtype: float64"
      ]
     },
     "execution_count": 69,
     "metadata": {},
     "output_type": "execute_result"
    }
   ],
   "source": [
    "lr4.params"
   ]
  },
  {
   "cell_type": "code",
   "execution_count": 70,
   "id": "c707818f",
   "metadata": {},
   "outputs": [
    {
     "name": "stdout",
     "output_type": "stream",
     "text": [
      "                            OLS Regression Results                            \n",
      "==============================================================================\n",
      "Dep. Variable:                 Weight   R-squared:                       0.934\n",
      "Model:                            OLS   Adj. R-squared:                  0.932\n",
      "Method:                 Least Squares   F-statistic:                     505.2\n",
      "Date:                Fri, 15 Oct 2021   Prob (F-statistic):           5.39e-63\n",
      "Time:                        19:39:19   Log-Likelihood:                -662.64\n",
      "No. Observations:                 111   AIC:                             1333.\n",
      "Df Residuals:                     107   BIC:                             1344.\n",
      "Df Model:                           3                                         \n",
      "Covariance Type:            nonrobust                                         \n",
      "=================================================================================\n",
      "                    coef    std err          t      P>|t|      [0.025      0.975]\n",
      "---------------------------------------------------------------------------------\n",
      "const          -390.5516     24.979    -15.635      0.000    -440.070    -341.033\n",
      "Length2        2221.2356     66.067     33.621      0.000    2090.266    2352.205\n",
      "Species_Pike   -359.2596     38.167     -9.413      0.000    -434.922    -283.598\n",
      "Species_Smelt   260.8643     38.531      6.770      0.000     184.481     337.247\n",
      "==============================================================================\n",
      "Omnibus:                       21.982   Durbin-Watson:                   2.230\n",
      "Prob(Omnibus):                  0.000   Jarque-Bera (JB):               40.375\n",
      "Skew:                           0.829   Prob(JB):                     1.71e-09\n",
      "Kurtosis:                       5.445   Cond. No.                         9.08\n",
      "==============================================================================\n",
      "\n",
      "Notes:\n",
      "[1] Standard Errors assume that the covariance matrix of the errors is correctly specified.\n"
     ]
    }
   ],
   "source": [
    "print(lr4.summary())"
   ]
  },
  {
   "cell_type": "markdown",
   "id": "5f627d0a",
   "metadata": {},
   "source": [
    "### Final Model Interpretation"
   ]
  },
  {
   "cell_type": "markdown",
   "id": "61506134",
   "metadata": {},
   "source": [
    "### F Statistics"
   ]
  },
  {
   "cell_type": "markdown",
   "id": "ca529b7d",
   "metadata": {},
   "source": [
    "### The equation of best fitted surface based on model lr4:"
   ]
  },
  {
   "cell_type": "markdown",
   "id": "fd703896",
   "metadata": {},
   "source": [
    "### Interpretation of Coefficients:"
   ]
  },
  {
   "cell_type": "markdown",
   "id": "49d000cd",
   "metadata": {},
   "source": [
    "### ASSUMPTIONS"
   ]
  },
  {
   "cell_type": "markdown",
   "id": "9d31a83c",
   "metadata": {},
   "source": [
    "### Error terms are normally distributed with mean zero (not X, Y)"
   ]
  },
  {
   "cell_type": "code",
   "execution_count": 71,
   "id": "3ce0f0e7",
   "metadata": {},
   "outputs": [],
   "source": [
    "y_train_pred = lr4.predict(X_train_lm4)"
   ]
  },
  {
   "cell_type": "code",
   "execution_count": 72,
   "id": "dfacef6a",
   "metadata": {},
   "outputs": [
    {
     "data": {
      "image/png": "[encoded data removed]",
      "text/plain": [
       "<Figure size 432x288 with 1 Axes>"
      ]
     },
     "metadata": {
      "needs_background": "light"
     },
     "output_type": "display_data"
    }
   ],
   "source": [
    "res = y_train-y_train_pred\n",
    "# Plot the histogram of the error terms\n",
    "fig = plt.figure()\n",
    "sns.distplot((res), bins = 20)\n",
    "fig.suptitle('Error Terms', fontsize = 20)                  # Plot heading \n",
    "plt.xlabel('Errors', fontsize = 18) ;"
   ]
  },
  {
   "cell_type": "markdown",
   "id": "6e2012f1",
   "metadata": {},
   "source": [
    "###  There is a linear relationship between X and Y"
   ]
  },
  {
   "cell_type": "code",
   "execution_count": 73,
   "id": "cf3ce547",
   "metadata": {},
   "outputs": [
    {
     "data": {
      "image/png": "[encoded data removed]",
      "text/plain": [
       "<Figure size 360x360 with 6 Axes>"
      ]
     },
     "metadata": {
      "needs_background": "light"
     },
     "output_type": "display_data"
    }
   ],
   "source": [
    "fish_new=fish_new[[ 'Weight', 'Length2']]\n",
    "\n",
    "sns.pairplot(fish_new, diag_kind='kde')\n",
    "plt.show()"
   ]
  },
  {
   "cell_type": "markdown",
   "id": "8718629b",
   "metadata": {},
   "source": [
    "### There is No Multicollinearity between the predictor variables"
   ]
  },
  {
   "cell_type": "code",
   "execution_count": 74,
   "id": "ab702f59",
   "metadata": {},
   "outputs": [
    {
     "data": {
      "text/html": [
       "<div>\n",
       "<style scoped>\n",
       "    .dataframe tbody tr th:only-of-type {\n",
       "        vertical-align: middle;\n",
       "    }\n",
       "\n",
       "    .dataframe tbody tr th {\n",
       "        vertical-align: top;\n",
       "    }\n",
       "\n",
       "    .dataframe thead th {\n",
       "        text-align: right;\n",
       "    }\n",
       "</style>\n",
       "<table border=\"1\" class=\"dataframe\">\n",
       "  <thead>\n",
       "    <tr style=\"text-align: right;\">\n",
       "      <th></th>\n",
       "      <th>Features</th>\n",
       "      <th>VIF</th>\n",
       "    </tr>\n",
       "  </thead>\n",
       "  <tbody>\n",
       "    <tr>\n",
       "      <th>0</th>\n",
       "      <td>Length2</td>\n",
       "      <td>1.47</td>\n",
       "    </tr>\n",
       "    <tr>\n",
       "      <th>1</th>\n",
       "      <td>Species_Pike</td>\n",
       "      <td>1.47</td>\n",
       "    </tr>\n",
       "    <tr>\n",
       "      <th>2</th>\n",
       "      <td>Species_Smelt</td>\n",
       "      <td>1.00</td>\n",
       "    </tr>\n",
       "  </tbody>\n",
       "</table>\n",
       "</div>"
      ],
      "text/plain": [
       "        Features   VIF\n",
       "0        Length2  1.47\n",
       "1   Species_Pike  1.47\n",
       "2  Species_Smelt  1.00"
      ]
     },
     "execution_count": 74,
     "metadata": {},
     "output_type": "execute_result"
    }
   ],
   "source": [
    "from statsmodels.stats.outliers_influence import variance_inflation_factor\n",
    "\n",
    "# Create a dataframe that will contain the names of all the feature variables and their respective VIFs\n",
    "vif = pd.DataFrame()\n",
    "vif['Features'] = X_train_new.columns\n",
    "vif['VIF'] = [variance_inflation_factor(X_train_new.values, i) for i in range(X_train_new.shape[1])]\n",
    "vif['VIF'] = round(vif['VIF'], 2)\n",
    "vif = vif.sort_values(by = \"VIF\", ascending = False)\n",
    "vif"
   ]
  },
  {
   "cell_type": "markdown",
   "id": "de3aa7dd",
   "metadata": {},
   "source": [
    "### MAKING PREDICTION USING FINAL MODEL"
   ]
  },
  {
   "cell_type": "markdown",
   "id": "d059ffe9",
   "metadata": {},
   "source": [
    "### Applying the scaling on the test sets"
   ]
  },
  {
   "cell_type": "code",
   "execution_count": 75,
   "id": "9000c5e4",
   "metadata": {},
   "outputs": [],
   "source": [
    "num_vars = ['Length1', 'Length2', 'Length3', 'Height', 'Width']\n",
    "\n",
    "df_test[num_vars] = scaler.transform(df_test[num_vars])"
   ]
  },
  {
   "cell_type": "code",
   "execution_count": 76,
   "id": "492e3b79",
   "metadata": {},
   "outputs": [
    {
     "data": {
      "text/html": [
       "<div>\n",
       "<style scoped>\n",
       "    .dataframe tbody tr th:only-of-type {\n",
       "        vertical-align: middle;\n",
       "    }\n",
       "\n",
       "    .dataframe tbody tr th {\n",
       "        vertical-align: top;\n",
       "    }\n",
       "\n",
       "    .dataframe thead th {\n",
       "        text-align: right;\n",
       "    }\n",
       "</style>\n",
       "<table border=\"1\" class=\"dataframe\">\n",
       "  <thead>\n",
       "    <tr style=\"text-align: right;\">\n",
       "      <th></th>\n",
       "      <th>Weight</th>\n",
       "      <th>Length1</th>\n",
       "      <th>Length2</th>\n",
       "      <th>Length3</th>\n",
       "      <th>Height</th>\n",
       "      <th>Width</th>\n",
       "      <th>Species_Parkki</th>\n",
       "      <th>Species_Perch</th>\n",
       "      <th>Species_Pike</th>\n",
       "      <th>Species_Roach</th>\n",
       "      <th>Species_Smelt</th>\n",
       "      <th>Species_Whitefish</th>\n",
       "    </tr>\n",
       "  </thead>\n",
       "  <tbody>\n",
       "    <tr>\n",
       "      <th>45</th>\n",
       "      <td>160.0</td>\n",
       "      <td>0.252427</td>\n",
       "      <td>0.256364</td>\n",
       "      <td>0.278716</td>\n",
       "      <td>0.313775</td>\n",
       "      <td>0.382049</td>\n",
       "      <td>0</td>\n",
       "      <td>0</td>\n",
       "      <td>0</td>\n",
       "      <td>1</td>\n",
       "      <td>0</td>\n",
       "      <td>0</td>\n",
       "    </tr>\n",
       "    <tr>\n",
       "      <th>11</th>\n",
       "      <td>500.0</td>\n",
       "      <td>0.411650</td>\n",
       "      <td>0.410909</td>\n",
       "      <td>0.462838</td>\n",
       "      <td>0.747797</td>\n",
       "      <td>0.524222</td>\n",
       "      <td>0</td>\n",
       "      <td>0</td>\n",
       "      <td>0</td>\n",
       "      <td>0</td>\n",
       "      <td>0</td>\n",
       "      <td>0</td>\n",
       "    </tr>\n",
       "    <tr>\n",
       "      <th>127</th>\n",
       "      <td>1000.0</td>\n",
       "      <td>0.652427</td>\n",
       "      <td>0.647273</td>\n",
       "      <td>0.638514</td>\n",
       "      <td>0.636446</td>\n",
       "      <td>0.921900</td>\n",
       "      <td>0</td>\n",
       "      <td>1</td>\n",
       "      <td>0</td>\n",
       "      <td>0</td>\n",
       "      <td>0</td>\n",
       "      <td>0</td>\n",
       "    </tr>\n",
       "    <tr>\n",
       "      <th>15</th>\n",
       "      <td>600.0</td>\n",
       "      <td>0.425243</td>\n",
       "      <td>0.429091</td>\n",
       "      <td>0.479730</td>\n",
       "      <td>0.810883</td>\n",
       "      <td>0.633665</td>\n",
       "      <td>0</td>\n",
       "      <td>0</td>\n",
       "      <td>0</td>\n",
       "      <td>0</td>\n",
       "      <td>0</td>\n",
       "      <td>0</td>\n",
       "    </tr>\n",
       "    <tr>\n",
       "      <th>7</th>\n",
       "      <td>390.0</td>\n",
       "      <td>0.390291</td>\n",
       "      <td>0.392727</td>\n",
       "      <td>0.442568</td>\n",
       "      <td>0.647164</td>\n",
       "      <td>0.506406</td>\n",
       "      <td>0</td>\n",
       "      <td>0</td>\n",
       "      <td>0</td>\n",
       "      <td>0</td>\n",
       "      <td>0</td>\n",
       "      <td>0</td>\n",
       "    </tr>\n",
       "  </tbody>\n",
       "</table>\n",
       "</div>"
      ],
      "text/plain": [
       "     Weight   Length1   Length2   Length3    Height     Width  Species_Parkki  \\\n",
       "45    160.0  0.252427  0.256364  0.278716  0.313775  0.382049               0   \n",
       "11    500.0  0.411650  0.410909  0.462838  0.747797  0.524222               0   \n",
       "127  1000.0  0.652427  0.647273  0.638514  0.636446  0.921900               0   \n",
       "15    600.0  0.425243  0.429091  0.479730  0.810883  0.633665               0   \n",
       "7     390.0  0.390291  0.392727  0.442568  0.647164  0.506406               0   \n",
       "\n",
       "     Species_Perch  Species_Pike  Species_Roach  Species_Smelt  \\\n",
       "45               0             0              1              0   \n",
       "11               0             0              0              0   \n",
       "127              1             0              0              0   \n",
       "15               0             0              0              0   \n",
       "7                0             0              0              0   \n",
       "\n",
       "     Species_Whitefish  \n",
       "45                   0  \n",
       "11                   0  \n",
       "127                  0  \n",
       "15                   0  \n",
       "7                    0  "
      ]
     },
     "execution_count": 76,
     "metadata": {},
     "output_type": "execute_result"
    }
   ],
   "source": [
    "df_test.head()"
   ]
  },
  {
   "cell_type": "code",
   "execution_count": 77,
   "id": "4ec4df43",
   "metadata": {},
   "outputs": [
    {
     "data": {
      "text/html": [
       "<div>\n",
       "<style scoped>\n",
       "    .dataframe tbody tr th:only-of-type {\n",
       "        vertical-align: middle;\n",
       "    }\n",
       "\n",
       "    .dataframe tbody tr th {\n",
       "        vertical-align: top;\n",
       "    }\n",
       "\n",
       "    .dataframe thead th {\n",
       "        text-align: right;\n",
       "    }\n",
       "</style>\n",
       "<table border=\"1\" class=\"dataframe\">\n",
       "  <thead>\n",
       "    <tr style=\"text-align: right;\">\n",
       "      <th></th>\n",
       "      <th>Weight</th>\n",
       "      <th>Length1</th>\n",
       "      <th>Length2</th>\n",
       "      <th>Length3</th>\n",
       "      <th>Height</th>\n",
       "      <th>Width</th>\n",
       "      <th>Species_Parkki</th>\n",
       "      <th>Species_Perch</th>\n",
       "      <th>Species_Pike</th>\n",
       "      <th>Species_Roach</th>\n",
       "      <th>Species_Smelt</th>\n",
       "      <th>Species_Whitefish</th>\n",
       "    </tr>\n",
       "  </thead>\n",
       "  <tbody>\n",
       "    <tr>\n",
       "      <th>count</th>\n",
       "      <td>48.000000</td>\n",
       "      <td>48.000000</td>\n",
       "      <td>48.000000</td>\n",
       "      <td>48.000000</td>\n",
       "      <td>48.000000</td>\n",
       "      <td>48.000000</td>\n",
       "      <td>48.000000</td>\n",
       "      <td>48.000000</td>\n",
       "      <td>48.000000</td>\n",
       "      <td>48.000000</td>\n",
       "      <td>48.000000</td>\n",
       "      <td>48.000000</td>\n",
       "    </tr>\n",
       "    <tr>\n",
       "      <th>mean</th>\n",
       "      <td>404.991667</td>\n",
       "      <td>0.369053</td>\n",
       "      <td>0.368788</td>\n",
       "      <td>0.384361</td>\n",
       "      <td>0.445182</td>\n",
       "      <td>0.469237</td>\n",
       "      <td>0.041667</td>\n",
       "      <td>0.333333</td>\n",
       "      <td>0.104167</td>\n",
       "      <td>0.145833</td>\n",
       "      <td>0.104167</td>\n",
       "      <td>0.020833</td>\n",
       "    </tr>\n",
       "    <tr>\n",
       "      <th>std</th>\n",
       "      <td>330.924770</td>\n",
       "      <td>0.182589</td>\n",
       "      <td>0.183910</td>\n",
       "      <td>0.186420</td>\n",
       "      <td>0.274375</td>\n",
       "      <td>0.247681</td>\n",
       "      <td>0.201941</td>\n",
       "      <td>0.476393</td>\n",
       "      <td>0.308709</td>\n",
       "      <td>0.356674</td>\n",
       "      <td>0.308709</td>\n",
       "      <td>0.144338</td>\n",
       "    </tr>\n",
       "    <tr>\n",
       "      <th>min</th>\n",
       "      <td>0.000000</td>\n",
       "      <td>0.034951</td>\n",
       "      <td>0.025455</td>\n",
       "      <td>0.033784</td>\n",
       "      <td>0.000615</td>\n",
       "      <td>-0.014413</td>\n",
       "      <td>0.000000</td>\n",
       "      <td>0.000000</td>\n",
       "      <td>0.000000</td>\n",
       "      <td>0.000000</td>\n",
       "      <td>0.000000</td>\n",
       "      <td>0.000000</td>\n",
       "    </tr>\n",
       "    <tr>\n",
       "      <th>25%</th>\n",
       "      <td>125.000000</td>\n",
       "      <td>0.224757</td>\n",
       "      <td>0.228182</td>\n",
       "      <td>0.236486</td>\n",
       "      <td>0.267332</td>\n",
       "      <td>0.317605</td>\n",
       "      <td>0.000000</td>\n",
       "      <td>0.000000</td>\n",
       "      <td>0.000000</td>\n",
       "      <td>0.000000</td>\n",
       "      <td>0.000000</td>\n",
       "      <td>0.000000</td>\n",
       "    </tr>\n",
       "    <tr>\n",
       "      <th>50%</th>\n",
       "      <td>317.500000</td>\n",
       "      <td>0.400971</td>\n",
       "      <td>0.401818</td>\n",
       "      <td>0.432432</td>\n",
       "      <td>0.355155</td>\n",
       "      <td>0.452650</td>\n",
       "      <td>0.000000</td>\n",
       "      <td>0.000000</td>\n",
       "      <td>0.000000</td>\n",
       "      <td>0.000000</td>\n",
       "      <td>0.000000</td>\n",
       "      <td>0.000000</td>\n",
       "    </tr>\n",
       "    <tr>\n",
       "      <th>75%</th>\n",
       "      <td>700.000000</td>\n",
       "      <td>0.512621</td>\n",
       "      <td>0.520000</td>\n",
       "      <td>0.545608</td>\n",
       "      <td>0.636056</td>\n",
       "      <td>0.694685</td>\n",
       "      <td>0.000000</td>\n",
       "      <td>1.000000</td>\n",
       "      <td>0.000000</td>\n",
       "      <td>0.000000</td>\n",
       "      <td>0.000000</td>\n",
       "      <td>0.000000</td>\n",
       "    </tr>\n",
       "    <tr>\n",
       "      <th>max</th>\n",
       "      <td>1000.000000</td>\n",
       "      <td>0.724272</td>\n",
       "      <td>0.720000</td>\n",
       "      <td>0.716216</td>\n",
       "      <td>1.019022</td>\n",
       "      <td>0.921900</td>\n",
       "      <td>1.000000</td>\n",
       "      <td>1.000000</td>\n",
       "      <td>1.000000</td>\n",
       "      <td>1.000000</td>\n",
       "      <td>1.000000</td>\n",
       "      <td>1.000000</td>\n",
       "    </tr>\n",
       "  </tbody>\n",
       "</table>\n",
       "</div>"
      ],
      "text/plain": [
       "            Weight    Length1    Length2    Length3     Height      Width  \\\n",
       "count    48.000000  48.000000  48.000000  48.000000  48.000000  48.000000   \n",
       "mean    404.991667   0.369053   0.368788   0.384361   0.445182   0.469237   \n",
       "std     330.924770   0.182589   0.183910   0.186420   0.274375   0.247681   \n",
       "min       0.000000   0.034951   0.025455   0.033784   0.000615  -0.014413   \n",
       "25%     125.000000   0.224757   0.228182   0.236486   0.267332   0.317605   \n",
       "50%     317.500000   0.400971   0.401818   0.432432   0.355155   0.452650   \n",
       "75%     700.000000   0.512621   0.520000   0.545608   0.636056   0.694685   \n",
       "max    1000.000000   0.724272   0.720000   0.716216   1.019022   0.921900   \n",
       "\n",
       "       Species_Parkki  Species_Perch  Species_Pike  Species_Roach  \\\n",
       "count       48.000000      48.000000     48.000000      48.000000   \n",
       "mean         0.041667       0.333333      0.104167       0.145833   \n",
       "std          0.201941       0.476393      0.308709       0.356674   \n",
       "min          0.000000       0.000000      0.000000       0.000000   \n",
       "25%          0.000000       0.000000      0.000000       0.000000   \n",
       "50%          0.000000       0.000000      0.000000       0.000000   \n",
       "75%          0.000000       1.000000      0.000000       0.000000   \n",
       "max          1.000000       1.000000      1.000000       1.000000   \n",
       "\n",
       "       Species_Smelt  Species_Whitefish  \n",
       "count      48.000000          48.000000  \n",
       "mean        0.104167           0.020833  \n",
       "std         0.308709           0.144338  \n",
       "min         0.000000           0.000000  \n",
       "25%         0.000000           0.000000  \n",
       "50%         0.000000           0.000000  \n",
       "75%         0.000000           0.000000  \n",
       "max         1.000000           1.000000  "
      ]
     },
     "execution_count": 77,
     "metadata": {},
     "output_type": "execute_result"
    }
   ],
   "source": [
    "df_test.describe()"
   ]
  },
  {
   "cell_type": "markdown",
   "id": "77467a8e",
   "metadata": {},
   "source": [
    "### Dividing into X_test and y_test"
   ]
  },
  {
   "cell_type": "code",
   "execution_count": 78,
   "id": "4927e6d8",
   "metadata": {},
   "outputs": [
    {
     "name": "stdout",
     "output_type": "stream",
     "text": [
      "<class 'pandas.core.frame.DataFrame'>\n",
      "Int64Index: 48 entries, 45 to 37\n",
      "Data columns (total 11 columns):\n",
      " #   Column             Non-Null Count  Dtype  \n",
      "---  ------             --------------  -----  \n",
      " 0   Length1            48 non-null     float64\n",
      " 1   Length2            48 non-null     float64\n",
      " 2   Length3            48 non-null     float64\n",
      " 3   Height             48 non-null     float64\n",
      " 4   Width              48 non-null     float64\n",
      " 5   Species_Parkki     48 non-null     uint8  \n",
      " 6   Species_Perch      48 non-null     uint8  \n",
      " 7   Species_Pike       48 non-null     uint8  \n",
      " 8   Species_Roach      48 non-null     uint8  \n",
      " 9   Species_Smelt      48 non-null     uint8  \n",
      " 10  Species_Whitefish  48 non-null     uint8  \n",
      "dtypes: float64(5), uint8(6)\n",
      "memory usage: 2.5 KB\n"
     ]
    }
   ],
   "source": [
    "y_test = df_test.pop('Weight')\n",
    "X_test = df_test\n",
    "X_test.info()"
   ]
  },
  {
   "cell_type": "code",
   "execution_count": 79,
   "id": "8a410fa2",
   "metadata": {},
   "outputs": [
    {
     "name": "stdout",
     "output_type": "stream",
     "text": [
      "<class 'pandas.core.frame.DataFrame'>\n",
      "Int64Index: 48 entries, 45 to 37\n",
      "Data columns (total 4 columns):\n",
      " #   Column         Non-Null Count  Dtype  \n",
      "---  ------         --------------  -----  \n",
      " 0   const          48 non-null     float64\n",
      " 1   Length2        48 non-null     float64\n",
      " 2   Species_Pike   48 non-null     uint8  \n",
      " 3   Species_Smelt  48 non-null     uint8  \n",
      "dtypes: float64(2), uint8(2)\n",
      "memory usage: 1.2 KB\n"
     ]
    }
   ],
   "source": [
    "#Selecting the variables that were part of final model.\n",
    "col1=X_train_new.columns\n",
    "X_test=X_test[col1]\n",
    "# Adding constant variable to test dataframe\n",
    "X_test_lm4 = sm.add_constant(X_test)\n",
    "X_test_lm4.info()"
   ]
  },
  {
   "cell_type": "code",
   "execution_count": 80,
   "id": "5658809e",
   "metadata": {},
   "outputs": [],
   "source": [
    "y_pred = lr4.predict(X_test_lm4)"
   ]
  },
  {
   "cell_type": "markdown",
   "id": "ac00417f",
   "metadata": {},
   "source": [
    "### MODEL EVALUATION"
   ]
  },
  {
   "cell_type": "code",
   "execution_count": 81,
   "id": "a263f73a",
   "metadata": {},
   "outputs": [
    {
     "data": {
      "image/png": "[encoded data removed]",
      "text/plain": [
       "<Figure size 432x288 with 1 Axes>"
      ]
     },
     "metadata": {
      "needs_background": "light"
     },
     "output_type": "display_data"
    }
   ],
   "source": [
    "fig = plt.figure()\n",
    "plt.scatter(y_test, y_pred, alpha=.5)\n",
    "fig.suptitle('y_test vs y_pred', fontsize = 20)              # Plot heading \n",
    "plt.xlabel('y_test', fontsize = 18)                          # X-label\n",
    "plt.ylabel('y_pred', fontsize = 16) \n",
    "plt.show()"
   ]
  },
  {
   "cell_type": "markdown",
   "id": "2ce99ba3",
   "metadata": {},
   "source": [
    "### R^2 Value for TEST"
   ]
  },
  {
   "cell_type": "code",
   "execution_count": 82,
   "id": "005b2820",
   "metadata": {},
   "outputs": [
    {
     "data": {
      "text/plain": [
       "0.9143237254054877"
      ]
     },
     "execution_count": 82,
     "metadata": {},
     "output_type": "execute_result"
    }
   ],
   "source": [
    "from sklearn.metrics import r2_score\n",
    "r2_score(y_test, y_pred)"
   ]
  },
  {
   "cell_type": "markdown",
   "id": "78d64747",
   "metadata": {},
   "source": [
    "### Adjusted R^2 Value for TEST"
   ]
  },
  {
   "cell_type": "code",
   "execution_count": 83,
   "id": "10238379",
   "metadata": {},
   "outputs": [],
   "source": [
    "r2=0.9143237254054878 "
   ]
  },
  {
   "cell_type": "code",
   "execution_count": 84,
   "id": "c9a11b6c",
   "metadata": {},
   "outputs": [
    {
     "data": {
      "text/plain": [
       "(48, 3)"
      ]
     },
     "execution_count": 84,
     "metadata": {},
     "output_type": "execute_result"
    }
   ],
   "source": [
    "X_test.shape"
   ]
  },
  {
   "cell_type": "code",
   "execution_count": 85,
   "id": "5710689b",
   "metadata": {},
   "outputs": [
    {
     "data": {
      "text/plain": [
       "0.9084821612285892"
      ]
     },
     "execution_count": 85,
     "metadata": {},
     "output_type": "execute_result"
    }
   ],
   "source": [
    "n = X_test.shape[0]\n",
    "\n",
    "\n",
    "# Number of features (predictors, p) is the shape along axis 1\n",
    "p = X_test.shape[1]\n",
    "\n",
    "# We find the Adjusted R-squared using the formula\n",
    "\n",
    "adjusted_r2 = 1-(1-r2)*(n-1)/(n-p-1)\n",
    "adjusted_r2"
   ]
  },
  {
   "cell_type": "markdown",
   "id": "cb7030dd",
   "metadata": {},
   "source": [
    "### Final Result Comparison"
   ]
  },
  {
   "cell_type": "markdown",
   "id": "9dedc68e",
   "metadata": {},
   "source": [
    "### FINAL REPORT¶"
   ]
  },
  {
   "cell_type": "markdown",
   "id": "da115f27",
   "metadata": {},
   "source": [
    "###### As per our final Model, the top predictor variables that influences the Weight are:\n",
    "\n",
    "###### Length2 : A coefficient value of ‘2221.235585’ indicated that a unit increase in length variable, increases the weight numbers by 2221.235585 units.\n",
    "###### Species_Pike: A coefficient value of ‘359.259616’ indicated that a unit increase in Species_Pike variable, decreases the weight numbers by 359.259616 units.\n",
    "###### Species_Smelt: A coefficient value of ‘260.864342’ indicated that a unit increase in Species_Smelt variable, increases the weight numbers by 260.864342 units."
   ]
  },
  {
   "cell_type": "code",
   "execution_count": null,
   "id": "4b16cc48",
   "metadata": {},
   "outputs": [],
   "source": []
  }
 ],
 "metadata": {
  "kernelspec": {
   "display_name": "Python 3",
   "language": "python",
   "name": "python3"
  },
  "language_info": {
   "codemirror_mode": {
    "name": "ipython",
    "version": 3
   },
   "file_extension": ".py",
   "mimetype": "text/x-python",
   "name": "python",
   "nbconvert_exporter": "python",
   "pygments_lexer": "ipython3",
   "version": "3.8.8"
  }
 },
 "nbformat": 4,
 "nbformat_minor": 5
}
